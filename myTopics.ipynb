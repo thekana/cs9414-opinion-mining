{
 "cells": [
  {
   "cell_type": "code",
   "execution_count": 244,
   "metadata": {},
   "outputs": [],
   "source": [
    "import csv\n",
    "import re\n",
    "import sys\n",
    "import time\n",
    "from sklearn.pipeline import Pipeline\n",
    "import matplotlib.pyplot as plt\n",
    "import numpy as np\n",
    "import pandas as pd\n",
    "from nltk.corpus import stopwords\n",
    "from nltk.stem import PorterStemmer\n",
    "from sklearn import metrics, tree\n",
    "from sklearn.utils import shuffle\n",
    "from sklearn.feature_extraction.text import CountVectorizer\n",
    "from sklearn.metrics import (accuracy_score, classification_report,\n",
    "                             confusion_matrix, f1_score, precision_score,\n",
    "                             recall_score)\n",
    "from sklearn.model_selection import train_test_split\n",
    "from sklearn.naive_bayes import BernoulliNB, MultinomialNB\n",
    "from sklearn.feature_selection import chi2, SelectKBest"
   ]
  },
  {
   "cell_type": "code",
   "execution_count": 245,
   "metadata": {},
   "outputs": [],
   "source": [
    "df = pd.read_csv('dataset.tsv', sep='\\t', quoting=csv.QUOTE_NONE, dtype=str,\n",
    "                 header=None, names=[\"instance\", \"text\", \"id\", \"sentiment\", \"is_sarcastic\"])\n",
    "df = shuffle(df)"
   ]
  },
  {
   "cell_type": "code",
   "execution_count": 246,
   "metadata": {},
   "outputs": [],
   "source": [
    "text_data = np.array([])\n",
    "# Read tweets\n",
    "for text in df.text:\n",
    "    text_data = np.append(text_data, text)"
   ]
  },
  {
   "cell_type": "code",
   "execution_count": 247,
   "metadata": {},
   "outputs": [],
   "source": [
    "\"\"\" Functions for text pre-processing \"\"\"\n",
    "\n",
    "\n",
    "def remove_URL(sample):\n",
    "    \"\"\"Remove URLs from a sample string\"\"\"\n",
    "    return re.sub(r\"http\\S+\", \" \", sample)\n",
    "\n",
    "\n",
    "def remove_punctuation(sample):\n",
    "    \"\"\"Remove punctuations from a sample string\"\"\"\n",
    "    punctuations = r'''$!\"&'()*+,-./:;<=>?[\\]^`{|}~'''\n",
    "    no_punct = \"\"\n",
    "    for char in sample:\n",
    "        if char not in punctuations:\n",
    "            no_punct = no_punct + char\n",
    "    return no_punct\n",
    "\n",
    "def myTokenizer(sample):\n",
    "    \"\"\"Customized tokenizer\"\"\"\n",
    "    ################################## 1. Remove numbers\n",
    "    ################################## 2. Remove auspoll thingy\n",
    "    ################################## 3. Remove starts with au\n",
    "    new_words = []\n",
    "    words = sample.split(' ')\n",
    "    new_words = [word for word in words if len(word) >= 2 and not word.isdigit() and not word.startswith('#aus') and not word.startswith('au')]\n",
    "    return new_words\n",
    "\n",
    "def remove_stopwords_NLTK(sample):\n",
    "    \"\"\"Remove stopwords using NLTK\"\"\"\n",
    "    stopWords = set(stopwords.words('english'))\n",
    "    words = myTokenizer(sample)\n",
    "    filteredText = \"\"\n",
    "    for word in words:\n",
    "        if word not in stopWords:\n",
    "            filteredText = filteredText + word + \" \"\n",
    "    return filteredText.rstrip()\n",
    "\n",
    "\n",
    "def porter_stem(sample):\n",
    "    \"\"\"Stemming\"\"\"\n",
    "    words = myTokenizer(sample)\n",
    "    ps = PorterStemmer()\n",
    "    stemmed_text = \"\"\n",
    "    for word in words:\n",
    "        stemmed_text = stemmed_text + ps.stem(word) + \" \"\n",
    "    return stemmed_text.rstrip()\n",
    "\n",
    "\n",
    "def myPreprocessor(sample):\n",
    "    \"\"\"Customized preprocessor\"\"\"\n",
    "    sample = remove_URL(sample)\n",
    "    sample = sample.lower()\n",
    "    sample = remove_stopwords_NLTK(sample)\n",
    "    sample = remove_punctuation(sample)\n",
    "    sample = porter_stem(sample)\n",
    "    return sample\n"
   ]
  },
  {
   "cell_type": "code",
   "execution_count": 248,
   "metadata": {},
   "outputs": [
    {
     "name": "stdout",
     "output_type": "stream",
     "text": [
      "['#4corner', '#7new', '#abc730', '#abcnews24', '#afpraid', '#agchatoz', '#alp', '#asylumseek', '#betterfutur', '#brexit', '#budget2016', '#canberra', '#cfa', '#cfmeu', '#chafta', '#childcar', '#cleanenergi', '#climat', '#climatechang', '#climatesci', '#coal', '#corrupt', '#csg', '#csiro', '#csirocut', '#dutton', '#educ', '#election2016', '#environ', '#et', '#faketradi', '#fraudband', '#gonski', '#greatbarrierreef', '#green', '#greens16', '#humanright', '#icac', '#inequ', '#insid', '#labor', '#laborlaunch', '#latelin', '#leadersdeb', '#liber', '#libral', '#lnp', '#lnpfail', '#malcolm', '#malwar', '#marriageequ', '#medicar', '#nauru', '#nbn', '#nbnco', '#nbngate', '#ndi', '#negativegear', '#npc', '#nswpol', '#panamapap', '#parakeelia', '#penaltyr', '#peoplesforum', '#pmlive', '#polita', '#putlnplast', '#qanda', '#qldpol', '#refuge', '#renew', '#safeschool', '#savemedicar', '#scomo', '#spendomet', '#springst', '#ssm', '#stopstateterror', '#taxrort', '#tennew', '#thedrum', '#turnbul', '1%', '100%', '1st', '21st', '2nd', '50%', '50b', '50bn', '50thou', '@2gbnew', '@abcnew', '@abcnews24', '@albomp', '@alp', '@australianlabor', '@barnaby_joyc', '@billshortenmp', '@bowenchri', '@cpyne', '@green', '@greghuntmp', '@independentau', '@johndory49', '@juliebishopmp', '@liberalau', '@margokingston1', '@mathiascormann', '@peterdutton_mp', '@richarddinatal', '@scottmorrisonmp', '@skynewsaust', '@smh', '@tanya_plibersek', '@theag', '@tonyabbottmhr', '@tonyhwindsor', '@turnbullmalcolm', 'aaa', 'abbott', 'abc', 'abl', 'absolut', 'abus', 'act', 'action', 'actual', 'ad', 'admit', 'adopt', 'afford', 'afp', 'again', 'age', 'agenda', 'agent', 'ago', 'agre', 'aid', 'all', 'alleg', 'allianc', 'allow', 'alon', 'alp', 'alreadi', 'also', 'alway', 'amp', 'analysi', 'andrew', 'anim', 'announc', 'anoth', 'answer', 'anyon', 'anyth', 'approv', 'around', 'ask', 'assist', 'asylum', 'attack', 'attend', 'avoid', 'away', 'back', 'ban', 'bank', 'barnabi', 'barrier', 'becom', 'behind', 'believ', 'benefit', 'best', 'better', 'beyond', 'big', 'bigger', 'biggest', 'bill', 'billion', 'bird', 'bishop', 'bit', 'black', 'blah', 'blame', 'blind', 'block', 'blood', 'bloodi', 'blow', 'boat', 'boost', 'border', 'boss', 'bottom', 'bowen', 'break', 'brexit', 'bribe', 'brilliant', 'bring', 'britain', 'broadband', 'broke', 'broken', 'budget', 'build', 'bulk', 'bulkbil', 'bullshit', 'busi', 'buy', 'cabinet', 'call', 'camp', 'campaign', 'candid', 'cannot', 'cant', 'carbon', 'care', 'cash', 'cattl', 'caus', 'cayman', 'centr', 'ceo', 'cfa', 'chanc', 'chang', 'chao', 'check', 'child', 'childcar', 'children', 'choic', 'chri', 'claim', 'class', 'clean', 'climat', 'co', 'coal', 'coalit', 'come', 'comment', 'commiss', 'commit', 'commun', 'compani', 'competit', 'concern', 'confid', 'confirm', 'consid', 'contact', 'continu', 'copper', 'cormann', 'corp', 'corpor', 'corrupt', 'cost', 'could', 'council', 'countri', 'coz', 'crap', 'creat', 'credibl', 'credit', 'crime', 'crimin', 'crisi', 'criticis', 'csiro', 'current', 'cut', 'dairi', 'damag', 'day', 'deal', 'death', 'debat', 'debt', 'decid', 'decis', 'declar', 'defend', 'deficit', 'deliv', 'democraci', 'demonstr', 'deni', 'dental', 'dept', 'deserv', 'desper', 'destroy', 'detail', 'detent', 'develop', 'di', 'die', 'differ', 'digit', 'direct', 'disgrac', 'distract', 'doctor', 'document', 'dodgi', 'dollar', 'donat', 'done', 'donor', 'drive', 'drug', 'dud', 'due', 'dumb', 'dutton', 'earli', 'earn', 'earner', 'econom', 'economi', 'ed', 'educ', 'effect', 'either', 'elect', 'elector', 'electr', 'electricti', 'els', 'embarrass', 'end', 'energi', 'english', 'enough', 'ensur', 'entir', 'equal', 'etc', 'eu', 'even', 'ever', 'everi', 'everyon', 'everyth', 'evid', 'exactli', 'examin', 'expect', 'expens', 'expert', 'explain', 'export', 'expos', 'extra', 'eye', 'face', 'fact', 'fail', 'fair', 'fall', 'famili', 'far', 'farmer', 'fault', 'fear', 'feder', 'fee', 'feel', 'fight', 'figur', 'final', 'financ', 'find', 'firefight', 'first', 'fiscal', 'fix', 'flow', 'folk', 'follow', 'fonseca', 'fool', 'for', 'forc', 'foreign', 'forest', 'forget', 'former', 'free', 'freez', 'fta', 'full', 'fulli', 'fund', 'funnel', 'furiou', 'futur', 'ga', 'gain', 'gay', 'gdp', 'gear', 'gener', 'get', 'gfc', 'gift', 'gillard', 'give', 'given', 'global', 'go', 'goe', 'gone', 'good', 'got', 'gov', 'govern', 'govt', 'gp', 'great', 'green', 'greg', 'grow', 'growth', 'gst', 'gt', 'guarante', 'guy', 'half', 'halt', 'hand', 'happen', 'hard', 'hate', 'haven', 'he', 'head', 'headlin', 'headspac', 'health', 'healthcar', 'hear', 'heard', 'heart', 'heath', 'hed', 'held', 'hell', 'help', 'here', 'hey', 'hide', 'high', 'higher', 'histori', 'hit', 'hockey', 'hole', 'home', 'homeless', 'hope', 'hospit', 'hous', 'housingfair', 'human', 'hung', 'hunt', 'hurt', 'id', 'idea', 'ideolog', 'ignor', 'ill', 'illeg', 'illiter', 'im', 'imagin', 'immigr', 'impact', 'import', 'in', 'includ', 'increas', 'independ', 'indonesia', 'industri', 'inform', 'infrastructur', 'innov', 'innumer', 'insid', 'insignific', 'instead', 'intak', 'integr', 'interest', 'intern', 'internet', 'internship', 'introduc', 'invest', 'investig', 'involv', 'iron', 'is', 'islam', 'islamist', 'island', 'isn’t', 'issu', 'it', 'it’', 'job', 'john', 'joke', 'joyc', 'juli', 'keep', 'kelli', 'kick', 'kid', 'kill', 'knew', 'know', 'known', 'labor', 'labor’', 'labr', 'lack', 'last', 'launder', 'law', 'lead', 'leader', 'leak', 'learn', 'least', 'leav', 'left', 'lefti', 'legal', 'less', 'let', 'level', 'liar', 'lib', 'liber', 'liberals’', 'lie', 'like', 'limit', 'line', 'link', 'listen', 'littl', 'live', 'lnp', 'loan', 'local', 'lock', 'lol', 'long', 'look', 'lose', 'lost', 'lot', 'love', 'low', 'lower', 'mad', 'made', 'mafia', 'major', 'make', 'mal', 'malcolm', 'man', 'manag', 'mani', 'manu', 'manufactur', 'margin', 'mark', 'market', 'marriag', 'mate', 'mathia', 'may', 'me', 'mean', 'measur', 'media', 'medic', 'medicar', 'member', 'mental', 'mention', 'messag', 'migrant', 'mill', 'million', 'min', 'mine', 'minimum', 'minist', 'minor', 'mismanag', 'money', 'morn', 'morrison', 'mossack', 'mp', 'mr', 'msm', 'mt', 'much', 'multin', 'muslim', 'must', 'name', 'natal', 'nation', 'nauru', 'nbn', 'nearli', 'need', 'neg', 'never', 'new', 'news', 'next', 'nigel', 'no', 'not', 'noth', 'now', 'nsw', 'obsess', 'off', 'offer', 'offic', 'offici', 'offshor', 'ok', 'old', 'on', 'one', 'open', 'opportun', 'opposit', 'order', 'otherwis', 'out', 'outcom', 'oversea', 'owner', 'oz', 'pa', 'packag', 'paid', 'pale', 'panama', 'paper', 'parakeelia', 'parent', 'parliament', 'part', 'parti', 'pass', 'past', 'patient', 'pay', 'payment', 'penalti', 'pension', 'peopl', 'per', 'person', 'perth', 'peter', 'photo', 'pl', 'plan', 'pleas', 'plebiscit', 'pledg', 'pm', 'point', 'polic', 'polici', 'polit', 'politician', 'poll', 'poor', 'posit', 'power', 'ppl', 'prevent', 'price', 'prime', 'privat', 'privatis', 'problem', 'profit', 'program', 'project', 'promis', 'promot', 'proof', 'properti', 'prosper', 'protect', 'protest', 'prove', 'provid', 'public', 'put', 'pyne', 'question', 'quit', 'racism', 'raid', 'rais', 'rate', 'rba', 're', 'read', 'readi', 'real', 'realiti', 'realli', 'reason', 'rebat', 'record', 'reduc', 'reef', 'reform', 'refuge', 'refus', 'releas', 'reli', 'rememb', 'remov', 'renew', 'report', 'research', 'respect', 'respond', 'respons', 'restor', 'return', 'reveal', 'revenu', 'revers', 'review', 'rhetor', 'rich', 'richard', 'right', 'rip', 'rise', 'risk', 'rkd', 'road', 'roll', 'rort', 'royal', 'rt', 'rule', 'run', 'sa', 'sack', 'safe', 'said', 'sale', 'samesex', 'save', 'say', 'sb', 'scandal', 'scare', 'school', 'scott', 'scrap', 'screw', 'sea', 'seat', 'second', 'secret', 'sector', 'secur', 'see', 'seek', 'seeker', 'seem', 'sell', 'senat', 'seriou', 'servic', 'set', 'shame', 'share', 'shift', 'shit', 'shock', 'shonki', 'shoot', 'shorten', 'show', 'shred', 'shut', 'sign', 'sinc', 'singl', 'skill', 'sky', 'slash', 'slogan', 'slow', 'sm', 'small', 'so', 'social', 'societi', 'solut', 'someth', 'soon', 'sort', 'sound', 'south', 'speak', 'spend', 'spent', 'spoke', 'sport', 'ssm', 'stabil', 'staff', 'stage', 'stand', 'start', 'state', 'statement', 'still', 'stop', 'stori', 'strategi', 'strong', 'student', 'stuff', 'stupid', 'submarin', 'subsidi', 'suicid', 'super', 'superannu', 'support', 'sure', 'surplu', 'surpris', 'system', 'tafe', 'take', 'talk', 'target', 'tax', 'taxat', 'taxpay', 'team', 'tell', 'ten', 'term', 'terror', 'terrorist', 'test', 'thank', 'that', 'the', 'them', 'there', 'therel', 'theyll', 'theyr', 'thi', 'thing', 'think', 'though', 'thought', 'thousand', 'threat', 'till', 'time', 'today', 'told', 'toni', 'too', 'took', 'top', 'total', 'trade', 'transfer', 'transit', 'treasur', 'treasuri', 'tri', 'trickl', 'true', 'trump', 'trust', 'trustpm', 'truth', 'turn', 'turnbul', 'turnbull’', 'two', 'uk', 'unemploy', 'uni', 'union', 'unless', 'urg', 'us', 'use', 'usual', 'valu', 'via', 'victoria', 'view', 'visa', 'visit', 'volunt', 'vote', 'voter', 'wa', 'wage', 'wait', 'wake', 'want', 'war', 'warn', 'wast', 'watch', 'water', 'way', 'we', 'wealthi', 'week', 'weird', 'welfar', 'well', 'were', 'weve', 'what', 'whether', 'white', 'who', 'win', 'windsor', 'within', 'without', 'women', 'wonder', 'wont', 'word', 'work', 'worker', 'world', 'worri', 'wors', 'worst', 'worth', 'would', 'wow', 'wrap', 'write', 'wrong', 'xenophobia', 'ya', 'ye', 'yeah', 'year', 'yesterday', 'yet', 'you', 'young', 'your', 'yr', 'zero']\n",
      "1000\n"
     ]
    }
   ],
   "source": [
    "# try to use sklearn stop_words later\n",
    "count = CountVectorizer(preprocessor=myPreprocessor, tokenizer=myTokenizer, max_features=1000)\n",
    "bag_of_words = count.fit_transform(text_data)\n",
    "print(count.get_feature_names())\n",
    "size = len(count.vocabulary_)\n",
    "print(len(count.vocabulary_))"
   ]
  },
  {
   "cell_type": "code",
   "execution_count": 249,
   "metadata": {},
   "outputs": [],
   "source": [
    "X = bag_of_words.toarray()\n",
    "# creating target classes\n",
    "Y = np.array([])\n",
    "for text in df.id:\n",
    "    Y = np.append(Y, text)\n",
    "# First 1500 for training set, last 500 for test set\n",
    "X_train, X_test, y_train, y_test = train_test_split(\n",
    "    X, Y, test_size=0.25, shuffle=False)"
   ]
  },
  {
   "cell_type": "code",
   "execution_count": 250,
   "metadata": {},
   "outputs": [],
   "source": [
    "clf = MultinomialNB()\n",
    "# clf = BernoulliNB()\n",
    "model = clf.fit(X_train, y_train)\n",
    "text_clf_red = Pipeline([('vect', CountVectorizer(preprocessor=myPreprocessor, tokenizer=myTokenizer)), \n",
    "                       ('reducer', SelectKBest(chi2, k=800)),\n",
    "                       ('clf', MultinomialNB())\n",
    "                       ])\n",
    "model_new = text_clf_red.fit(text_data[:1500],Y[:1500])"
   ]
  },
  {
   "cell_type": "code",
   "execution_count": 251,
   "metadata": {},
   "outputs": [
    {
     "name": "stdout",
     "output_type": "stream",
     "text": [
      "              precision    recall  f1-score   support\n",
      "\n",
      "       10000       0.52      0.73      0.61        56\n",
      "       10001       0.41      0.35      0.38        31\n",
      "       10002       0.46      0.35      0.40        31\n",
      "       10003       0.38      0.59      0.46        79\n",
      "       10004       0.00      0.00      0.00         6\n",
      "       10005       0.52      0.64      0.57        47\n",
      "       10006       0.35      0.30      0.32        53\n",
      "       10007       0.00      0.00      0.00         1\n",
      "       10008       0.60      0.64      0.62        47\n",
      "       10009       0.50      0.33      0.40         3\n",
      "       10010       0.33      0.08      0.13        12\n",
      "       10011       0.00      0.00      0.00         2\n",
      "       10012       0.00      0.00      0.00         8\n",
      "       10013       0.55      0.53      0.54        32\n",
      "       10014       0.00      0.00      0.00         8\n",
      "       10015       0.63      0.59      0.61        32\n",
      "       10016       0.00      0.00      0.00        15\n",
      "       10017       0.00      0.00      0.00        16\n",
      "       10018       0.50      0.40      0.44        10\n",
      "       10019       0.22      0.18      0.20        11\n",
      "\n",
      "   micro avg       0.46      0.46      0.46       500\n",
      "   macro avg       0.30      0.29      0.28       500\n",
      "weighted avg       0.41      0.46      0.43       500\n",
      "\n"
     ]
    },
    {
     "name": "stderr",
     "output_type": "stream",
     "text": [
      "C:\\Users\\Doodey\\Anaconda3\\lib\\site-packages\\sklearn\\metrics\\classification.py:1143: UndefinedMetricWarning: Precision and F-score are ill-defined and being set to 0.0 in labels with no predicted samples.\n",
      "  'precision', 'predicted', average, warn_for)\n"
     ]
    }
   ],
   "source": [
    "y_pred = model.predict(X_test)\n",
    "print(classification_report(y_test, y_pred))"
   ]
  },
  {
   "cell_type": "code",
   "execution_count": 252,
   "metadata": {},
   "outputs": [
    {
     "name": "stdout",
     "output_type": "stream",
     "text": [
      "              precision    recall  f1-score   support\n",
      "\n",
      "       10000       0.82      0.86      0.84       188\n",
      "       10001       0.76      0.69      0.72       109\n",
      "       10002       0.70      0.82      0.76        99\n",
      "       10003       0.65      0.77      0.71       279\n",
      "       10004       1.00      0.18      0.31        11\n",
      "       10005       0.70      0.85      0.77       147\n",
      "       10006       0.78      0.73      0.75       136\n",
      "       10007       0.00      0.00      0.00         6\n",
      "       10008       0.79      0.86      0.82       116\n",
      "       10009       0.88      0.54      0.67        13\n",
      "       10010       0.69      0.50      0.58        44\n",
      "       10011       1.00      0.18      0.31        11\n",
      "       10012       0.80      0.47      0.59        17\n",
      "       10013       0.86      0.86      0.86        72\n",
      "       10014       1.00      0.38      0.55        21\n",
      "       10015       0.89      0.93      0.91        87\n",
      "       10016       0.73      0.43      0.54        44\n",
      "       10017       0.81      0.55      0.65        31\n",
      "       10018       0.91      0.71      0.80        28\n",
      "       10019       0.86      0.59      0.70        41\n",
      "\n",
      "   micro avg       0.75      0.75      0.75      1500\n",
      "   macro avg       0.78      0.60      0.64      1500\n",
      "weighted avg       0.76      0.75      0.75      1500\n",
      "\n"
     ]
    },
    {
     "name": "stderr",
     "output_type": "stream",
     "text": [
      "C:\\Users\\Doodey\\Anaconda3\\lib\\site-packages\\sklearn\\metrics\\classification.py:1143: UndefinedMetricWarning: Precision and F-score are ill-defined and being set to 0.0 in labels with no predicted samples.\n",
      "  'precision', 'predicted', average, warn_for)\n"
     ]
    }
   ],
   "source": [
    "y_pred = model.predict(X_train)\n",
    "print(classification_report(y_train, y_pred))"
   ]
  },
  {
   "cell_type": "code",
   "execution_count": 253,
   "metadata": {},
   "outputs": [
    {
     "name": "stdout",
     "output_type": "stream",
     "text": [
      "              precision    recall  f1-score   support\n",
      "\n",
      "       10000       0.56      0.57      0.57        56\n",
      "       10001       0.50      0.23      0.31        31\n",
      "       10002       0.54      0.48      0.51        31\n",
      "       10003       0.30      0.75      0.42        79\n",
      "       10004       0.00      0.00      0.00         6\n",
      "       10005       0.55      0.64      0.59        47\n",
      "       10006       0.59      0.30      0.40        53\n",
      "       10007       0.00      0.00      0.00         1\n",
      "       10008       0.58      0.64      0.61        47\n",
      "       10009       0.00      0.00      0.00         3\n",
      "       10010       0.50      0.08      0.14        12\n",
      "       10011       0.00      0.00      0.00         2\n",
      "       10012       0.00      0.00      0.00         8\n",
      "       10013       0.75      0.56      0.64        32\n",
      "       10014       1.00      0.12      0.22         8\n",
      "       10015       0.86      0.59      0.70        32\n",
      "       10016       0.00      0.00      0.00        15\n",
      "       10017       0.50      0.06      0.11        16\n",
      "       10018       0.40      0.20      0.27        10\n",
      "       10019       0.29      0.18      0.22        11\n",
      "\n",
      "   micro avg       0.47      0.47      0.47       500\n",
      "   macro avg       0.40      0.27      0.29       500\n",
      "weighted avg       0.50      0.47      0.44       500\n",
      "\n"
     ]
    }
   ],
   "source": [
    "y_pred = model_new.predict(text_data[1500:])\n",
    "print(classification_report(Y[1500:], y_pred))"
   ]
  },
  {
   "cell_type": "code",
   "execution_count": 254,
   "metadata": {},
   "outputs": [
    {
     "name": "stdout",
     "output_type": "stream",
     "text": [
      "              precision    recall  f1-score   support\n",
      "\n",
      "       10000       0.76      0.76      0.76       188\n",
      "       10001       0.68      0.33      0.44       109\n",
      "       10002       0.66      0.71      0.68        99\n",
      "       10003       0.48      0.82      0.61       279\n",
      "       10004       1.00      0.45      0.62        11\n",
      "       10005       0.61      0.71      0.66       147\n",
      "       10006       0.82      0.49      0.61       136\n",
      "       10007       1.00      0.83      0.91         6\n",
      "       10008       0.73      0.82      0.77       116\n",
      "       10009       1.00      0.31      0.47        13\n",
      "       10010       1.00      0.34      0.51        44\n",
      "       10011       1.00      0.45      0.62        11\n",
      "       10012       0.83      0.59      0.69        17\n",
      "       10013       0.87      0.74      0.80        72\n",
      "       10014       1.00      0.81      0.89        21\n",
      "       10015       0.80      0.89      0.84        87\n",
      "       10016       1.00      0.32      0.48        44\n",
      "       10017       0.91      0.32      0.48        31\n",
      "       10018       1.00      0.79      0.88        28\n",
      "       10019       0.90      0.68      0.78        41\n",
      "\n",
      "   micro avg       0.67      0.67      0.67      1500\n",
      "   macro avg       0.85      0.61      0.68      1500\n",
      "weighted avg       0.73      0.67      0.67      1500\n",
      "\n"
     ]
    }
   ],
   "source": [
    "y_pred = model_new.predict(text_data[:1500])\n",
    "print(classification_report(Y[:1500], y_pred))"
   ]
  }
 ],
 "metadata": {
  "kernelspec": {
   "display_name": "Python 3",
   "language": "python",
   "name": "python3"
  },
  "language_info": {
   "codemirror_mode": {
    "name": "ipython",
    "version": 3
   },
   "file_extension": ".py",
   "mimetype": "text/x-python",
   "name": "python",
   "nbconvert_exporter": "python",
   "pygments_lexer": "ipython3",
   "version": "3.7.3"
  }
 },
 "nbformat": 4,
 "nbformat_minor": 2
}
