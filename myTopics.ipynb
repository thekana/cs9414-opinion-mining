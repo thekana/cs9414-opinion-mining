{
 "cells": [
  {
   "cell_type": "code",
   "execution_count": 266,
   "metadata": {},
   "outputs": [],
   "source": [
    "import csv\n",
    "import re\n",
    "import sys\n",
    "import time\n",
    "from sklearn.pipeline import Pipeline\n",
    "import matplotlib.pyplot as plt\n",
    "import numpy as np\n",
    "import pandas as pd\n",
    "import nltk\n",
    "import string\n",
    "from nltk.corpus import stopwords\n",
    "from nltk.stem import PorterStemmer\n",
    "from nltk.stem.snowball import SnowballStemmer\n",
    "from nltk.stem import WordNetLemmatizer\n",
    "from sklearn import metrics, tree\n",
    "from sklearn.utils import shuffle\n",
    "from sklearn.feature_extraction.text import CountVectorizer, TfidfVectorizer\n",
    "from sklearn.metrics import (accuracy_score, classification_report,\n",
    "                             confusion_matrix, f1_score, precision_score,\n",
    "                             recall_score)\n",
    "from sklearn.model_selection import train_test_split\n",
    "from sklearn.naive_bayes import BernoulliNB, MultinomialNB\n",
    "from sklearn.feature_selection import chi2, SelectKBest\n",
    "import warnings\n",
    "warnings.filterwarnings('ignore')"
   ]
  },
  {
   "cell_type": "code",
   "execution_count": 267,
   "metadata": {},
   "outputs": [],
   "source": [
    "df = pd.read_csv('dataset.tsv', sep='\\t', quoting=csv.QUOTE_NONE, dtype=str, encoding = 'utf-8',\n",
    "                 header=None, names=[\"instance\", \"text\", \"id\", \"sentiment\", \"is_sarcastic\"])\n",
    "#df = shuffle(df)"
   ]
  },
  {
   "cell_type": "code",
   "execution_count": 268,
   "metadata": {},
   "outputs": [],
   "source": [
    "\"\"\" Functions for text pre-processing \"\"\"\n",
    "\n",
    "\n",
    "def remove_URL(sample):\n",
    "    \"\"\"Remove URLs from a sample string\"\"\"\n",
    "    return re.sub(r\"http\\S+\", \" \", sample)\n",
    "\n",
    "\n",
    "def remove_punctuation(sample):\n",
    "    \"\"\"Remove punctuations from a sample string\"\"\"\n",
    "#     punctuations = r'''$!\"&'()*+,-./:;<=>?[\\]^`{|}~'''\n",
    "#     no_punct = \"\"\n",
    "#     for char in sample:\n",
    "#         if char not in punctuations:\n",
    "#             no_punct = no_punct + char\n",
    "#     return no_punct\n",
    "    return re.sub(r'[^\\w\\s]',' ',sample)\n",
    "\n",
    "def myTokenizer(sample):\n",
    "    \"\"\"Customized tokenizer\"\"\"\n",
    "    ################################## 1. Remove numbers\n",
    "    ################################## 2. Remove auspoll thingy\n",
    "    ################################## 3. Remove starts with au\n",
    "    new_words = []\n",
    "    words = sample.split(' ')\n",
    "    new_words = [word for word in words if len(word) >= 2 and not word.startswith('au')] #and not bool(re.search(r'\\d',word))]\n",
    "    return new_words\n",
    "\n",
    "def remove_stopwords_NLTK(sample):\n",
    "    \"\"\"Remove stopwords using NLTK\"\"\"\n",
    "    stopWords = set(stopwords.words('english'))\n",
    "    words = [w for w in sample.split(' ') if len(w) >= 2]\n",
    "    filteredText = \"\"\n",
    "    for word in words:\n",
    "        if word not in stopWords:\n",
    "            filteredText = filteredText + word + \" \"\n",
    "    return filteredText.rstrip()\n",
    "\n",
    "\n",
    "def porter_stem(sample):\n",
    "    \"\"\"Stemming\"\"\"\n",
    "    words = [w for w in sample.split(' ') if len(w) >= 2]\n",
    "    ps = PorterStemmer()\n",
    "    stemmed_text = \"\"\n",
    "    for word in words:\n",
    "        stemmed_text = stemmed_text + ps.stem(word) + \" \"\n",
    "    return stemmed_text.rstrip()\n",
    "\n",
    "def lemmy(sample):\n",
    "    #nltk.download('wordnet')\n",
    "    lemmatizer = WordNetLemmatizer()\n",
    "    words = [w for w in sample.split(' ') if len(w) >= 2]\n",
    "    lemmed_text = \"\"\n",
    "    for word in words:\n",
    "        lemmed_text = lemmed_text + lemmatizer.lemmatize(word, pos='v') + \" \"\n",
    "    return lemmed_text.rstrip()\n",
    "    \n",
    "def snowball(sample):\n",
    "    words = [w for w in sample.split(' ') if len(w) >= 2]\n",
    "    stemmer = SnowballStemmer(\"english\")\n",
    "    stemmed_text = \"\"\n",
    "    for word in words:\n",
    "        stemmed_text = stemmed_text + stemmer.stem(word) + \" \"\n",
    "    return stemmed_text.rstrip()\n",
    "\n",
    "# def myPreprocessor(sample):\n",
    "#     \"\"\"Customized preprocessor\"\"\"\n",
    "#     sample = remove_URL(sample)\n",
    "#     sample = sample.lower()\n",
    "#     sample = remove_punctuation(sample)\n",
    "#     sample = remove_stopwords_NLTK(sample)\n",
    "#     sample = porter_stem(sample)\n",
    "#     return sample\n"
   ]
  },
  {
   "cell_type": "code",
   "execution_count": 269,
   "metadata": {},
   "outputs": [],
   "source": [
    "def remove_mentions(input_text):\n",
    "    return re.sub(r'@\\w+', '', input_text)\n",
    "\n",
    "def remove_urls(input_text):\n",
    "    return re.sub(r'http.?://[^\\s]+[\\s]?', '', input_text)\n",
    "\n",
    "def emoji_oneword(input_text):\n",
    "    # By compressing the underscore, the emoji is kept as one word\n",
    "    return input_text.replace('_','')\n",
    "\n",
    "def remove_punctuation1(input_text):\n",
    "    # Make translation table\n",
    "    punct = string.punctuation\n",
    "    trantab = str.maketrans(punct, len(punct)*' ')  # Every punctuation symbol will be replaced by a space\n",
    "    return input_text.translate(trantab)\n",
    "\n",
    "def remove_digits(input_text):\n",
    "    return re.sub('\\d+', '', input_text)\n",
    "\n",
    "def to_lower(input_text):\n",
    "    return input_text.lower()\n",
    "\n",
    "def remove_stopwords(input_text):\n",
    "    stopwords_list = stopwords.words('english')\n",
    "    # Some words which might indicate a certain sentiment are kept via a whitelist\n",
    "    # whitelist = [\"n't\", \"not\", \"no\"]\n",
    "    words = input_text.split() \n",
    "    clean_words = [word for word in words if (word not in stopwords_list) and len(word) > 1] \n",
    "    return \" \".join(clean_words) \n",
    "\n",
    "def stemming(input_text):\n",
    "    porter = PorterStemmer()\n",
    "    words = input_text.split() \n",
    "    stemmed_words = [porter.stem(word) for word in words]\n",
    "    return \" \".join(stemmed_words)\n",
    "\n",
    "def newProcess(sample):\n",
    "    sample = remove_mentions(sample)\n",
    "    sample = remove_urls(sample)\n",
    "    sample = remove_punctuation(sample)\n",
    "    sample = remove_digits(sample)\n",
    "    sample = to_lower(sample)\n",
    "    sample = remove_stopwords(sample)\n",
    "    sample = stemming(sample)\n",
    "    return sample"
   ]
  },
  {
   "cell_type": "code",
   "execution_count": 270,
   "metadata": {},
   "outputs": [],
   "source": [
    "\"\"\" Data creation \"\"\"\n",
    "text_data = np.array([])\n",
    "# Read tweets\n",
    "for text in df.text:\n",
    "    text_data = np.append(text_data, text)\n",
    "# creating target classes\n",
    "Y = np.array([])\n",
    "for text in df.id:\n",
    "    Y = np.append(Y, text)"
   ]
  },
  {
   "cell_type": "code",
   "execution_count": 271,
   "metadata": {},
   "outputs": [],
   "source": [
    "X_train_, X_test_, y_train, y_test = train_test_split(text_data, Y, test_size=0.25, shuffle=False)"
   ]
  },
  {
   "cell_type": "code",
   "execution_count": 272,
   "metadata": {},
   "outputs": [
    {
     "name": "stdout",
     "output_type": "stream",
     "text": [
      "['aaa', 'abbott', 'abc', 'abcnew', 'abl', 'abort', 'absolut', 'abus', 'account', 'action', 'actual', 'ad', 'admit', 'adopt', 'afford', 'afp', 'afpraid', 'age', 'agenda', 'agent', 'agil', 'aid', 'allow', 'alon', 'alp', 'alreadi', 'also', 'alway', 'amp', 'analysi', 'announc', 'anoth', 'answer', 'anti', 'anyon', 'anyth', 'around', 'ask', 'asylum', 'asylumseek', 'attack', 'avoid', 'away', 'back', 'ban', 'bank', 'banker', 'barnabi', 'barrier', 'base', 'becom', 'behind', 'believ', 'benefit', 'best', 'better', 'betterfutur', 'big', 'biggest', 'bil', 'bill', 'billion', 'bird', 'bishop', 'bit', 'black', 'blame', 'bloodi', 'blow', 'bn', 'boat', 'border', 'bottom', 'bowen', 'break', 'brexit', 'bribe', 'britain', 'broadband', 'broken', 'budget', 'build', 'bulk', 'busi', 'buy', 'cabinet', 'call', 'camp', 'campaign', 'canberra', 'candid', 'cannot', 'carbon', 'care', 'cash', 'cattl', 'caus', 'cayman', 'centr', 'ceo', 'cfa', 'cfmeu', 'chafta', 'chanc', 'chang', 'chao', 'check', 'child', 'childcar', 'chri', 'claim', 'class', 'clean', 'climat', 'climatechang', 'co', 'coal', 'coalit', 'come', 'comment', 'commiss', 'commit', 'commun', 'compani', 'concern', 'confid', 'confirm', 'contact', 'continu', 'copper', 'cormann', 'corner', 'corp', 'corpor', 'corrupt', 'cost', 'could', 'council', 'countri', 'creat', 'credibl', 'credit', 'crimin', 'criticis', 'csg', 'csiro', 'csirocut', 'cut', 'dairi', 'damag', 'day', 'deal', 'debat', 'debt', 'decis', 'declar', 'defend', 'deficit', 'deliv', 'democraci', 'deni', 'deserv', 'desper', 'destroy', 'detail', 'detent', 'develop', 'di', 'digit', 'direct', 'disgrac', 'distract', 'doctor', 'document', 'dodgi', 'dollar', 'donat', 'done', 'donor', 'dont', 'due', 'dutton', 'earli', 'econom', 'economi', 'educ', 'effect', 'elect', 'elector', 'electr', 'end', 'energi', 'english', 'ensur', 'environ', 'equal', 'et', 'etc', 'even', 'ever', 'everi', 'everyon', 'everyth', 'evid', 'ex', 'expect', 'expens', 'expert', 'explain', 'export', 'expos', 'extra', 'fact', 'fail', 'fair', 'faketradi', 'fall', 'famili', 'far', 'farmer', 'fault', 'fear', 'feder', 'final', 'find', 'first', 'fix', 'fool', 'forc', 'forget', 'former', 'fraudband', 'free', 'freez', 'full', 'fund', 'futur', 'gay', 'gdp', 'gear', 'get', 'gfc', 'gillard', 'give', 'given', 'global', 'go', 'gone', 'gonski', 'good', 'got', 'gov', 'govern', 'govt', 'gp', 'great', 'green', 'greg', 'grow', 'growth', 'gst', 'gt', 'guarante', 'half', 'hand', 'happen', 'hard', 'hate', 'haven', 'head', 'headspac', 'health', 'healthcar', 'hear', 'heard', 'help', 'hey', 'hide', 'high', 'higher', 'hit', 'hockey', 'hole', 'home', 'hope', 'hospit', 'hous', 'humanright', 'hunt', 'hurt', 'icac', 'idea', 'ignor', 'ill', 'illeg', 'illiter', 'imagin', 'immigr', 'impact', 'import', 'incom', 'increas', 'independ', 'indonesia', 'industri', 'inequ', 'inform', 'innov', 'insid', 'instead', 'integr', 'interest', 'internet', 'invest', 'investig', 'islam', 'islamist', 'issu', 'job', 'john', 'joke', 'joyc', 'juli', 'keep', 'kelli', 'kid', 'kill', 'knew', 'know', 'lab', 'labor', 'laborlaunch', 'lack', 'last', 'latelin', 'launder', 'law', 'lead', 'leader', 'leadersdeb', 'leak', 'learn', 'left', 'legal', 'less', 'let', 'level', 'lgbti', 'liar', 'lib', 'liber', 'lie', 'like', 'limit', 'link', 'listen', 'littl', 'live', 'lnp', 'lnpfail', 'local', 'look', 'lose', 'lost', 'lot', 'love', 'low', 'lower', 'lowest', 'lt', 'made', 'major', 'make', 'mal', 'malcolm', 'manag', 'mani', 'manu', 'manufactur', 'margin', 'market', 'marriag', 'marriageequ', 'mate', 'mathia', 'may', 'mean', 'media', 'medic', 'medicar', 'member', 'mental', 'mention', 'metadata', 'middl', 'migrant', 'mill', 'million', 'mine', 'minist', 'money', 'morrison', 'mp', 'mr', 'msm', 'mt', 'much', 'multin', 'murdoch', 'muslim', 'must', 'name', 'natal', 'nation', 'nauru', 'nbn', 'nbnco', 'nbngate', 'nd', 'ndi', 'need', 'neg', 'negativegear', 'never', 'new', 'news', 'next', 'noth', 'npc', 'nsw', 'offer', 'offic', 'offshor', 'ok', 'old', 'one', 'open', 'opposit', 'order', 'otherwis', 'oversea', 'owner', 'oz', 'paid', 'panama', 'panamapap', 'paper', 'parakeelia', 'parent', 'part', 'parti', 'pass', 'past', 'patient', 'pay', 'payment', 'penalti', 'pension', 'peopl', 'peoplesforum', 'person', 'perth', 'peter', 'pig', 'pl', 'plan', 'pleas', 'plebiscit', 'pledg', 'pm', 'point', 'polic', 'polici', 'polit', 'politician', 'poll', 'poor', 'posit', 'power', 'ppl', 'price', 'prime', 'privat', 'privatis', 'problem', 'profit', 'program', 'promis', 'properti', 'protect', 'protest', 'prove', 'provid', 'public', 'put', 'putlnplast', 'pyne', 'qanda', 'qldpol', 'question', 'racism', 'raid', 'rais', 'rate', 'rba', 'read', 'real', 'realli', 'reason', 'rebat', 'record', 'reduc', 'reef', 'reform', 'refuge', 'refus', 'rememb', 'remov', 'renew', 'report', 'respons', 'return', 'reveal', 'revers', 'rhetor', 'rich', 'right', 'rise', 'risk', 'roll', 'rort', 'royal', 'run', 'sack', 'safe', 'safeschool', 'said', 'sale', 'save', 'savemedicar', 'say', 'sb', 'scandal', 'scare', 'school', 'scomo', 'scott', 'scrap', 'screw', 'seat', 'second', 'secret', 'sector', 'secur', 'see', 'seek', 'seeker', 'seem', 'sell', 'senat', 'servic', 'set', 'sex', 'shame', 'shock', 'shorten', 'show', 'sign', 'sinc', 'singl', 'slash', 'slow', 'small', 'social', 'someth', 'soon', 'spend', 'spendomet', 'spent', 'springst', 'ssm', 'st', 'stabil', 'stand', 'start', 'state', 'still', 'stop', 'stopstateterror', 'stori', 'strategi', 'strong', 'stuff', 'stupid', 'suicid', 'super', 'superannu', 'support', 'sure', 'surplu', 'system', 'tafe', 'take', 'talk', 'target', 'tax', 'taxat', 'taxpay', 'taxrort', 'tell', 'tennew', 'term', 'terror', 'terrorist', 'test', 'thank', 'thedrum', 'thing', 'think', 'though', 'thought', 'thousand', 'threat', 'three', 'throw', 'till', 'time', 'today', 'told', 'toni', 'top', 'total', 'trade', 'transfer', 'transit', 'treasur', 'tri', 'trickl', 'true', 'trump', 'trust', 'turn', 'turnbul', 'two', 'uk', 'unemploy', 'union', 'univers', 'urg', 'us', 'use', 'usual', 'valu', 'via', 'victoria', 'visa', 'visit', 'volunt', 'vote', 'voter', 'vulner', 'wa', 'wage', 'wait', 'wake', 'want', 'war', 'warn', 'wast', 'water', 'way', 'wealthi', 'week', 'welfar', 'well', 'win', 'within', 'without', 'women', 'wonder', 'wont', 'word', 'work', 'worker', 'world', 'wors', 'worst', 'worth', 'would', 'wrong', 'xenophobia', 'ye', 'yeah', 'year', 'yesterday', 'yet', 'young', 'youth', 'yr', 'zero']\n",
      "700\n"
     ]
    }
   ],
   "source": [
    "# try to use sklearn stop_words later\n",
    "# 711, 0.688\n",
    "# 1178, 0.978\n",
    "# max_features=818, ngram_range=(1, 2), min_df = 0\n",
    "count = CountVectorizer(preprocessor=newProcess, tokenizer=myTokenizer, max_features=700, ngram_range=(1, 1), min_df = 4, max_df = 0.2)\n",
    "X_train = count.fit_transform(X_train_).toarray()\n",
    "X_test = count.transform(X_test_).toarray()\n",
    "print(count.get_feature_names())\n",
    "# size = len(count.vocabulary_)\n",
    "print(len(count.vocabulary_))"
   ]
  },
  {
   "cell_type": "code",
   "execution_count": 273,
   "metadata": {},
   "outputs": [],
   "source": [
    "clf = MultinomialNB(alpha = 0.75)\n",
    "model = clf.fit(X_train, y_train)"
   ]
  },
  {
   "cell_type": "code",
   "execution_count": 274,
   "metadata": {},
   "outputs": [
    {
     "name": "stdout",
     "output_type": "stream",
     "text": [
      "              precision    recall  f1-score   support\n",
      "\n",
      "       10000       0.60      0.64      0.62        56\n",
      "       10001       0.36      0.28      0.31        36\n",
      "       10002       0.62      0.48      0.55        31\n",
      "       10003       0.36      0.57      0.44        87\n",
      "       10004       0.00      0.00      0.00         2\n",
      "       10005       0.62      0.67      0.65        52\n",
      "       10006       0.38      0.39      0.38        44\n",
      "       10007       0.00      0.00      0.00         2\n",
      "       10008       0.63      0.74      0.68        46\n",
      "       10009       0.00      0.00      0.00         4\n",
      "       10010       0.22      0.18      0.20        11\n",
      "       10011       0.00      0.00      0.00         7\n",
      "       10012       0.00      0.00      0.00         4\n",
      "       10013       0.77      0.62      0.69        37\n",
      "       10014       0.00      0.00      0.00         6\n",
      "       10015       0.57      0.67      0.62        24\n",
      "       10016       0.25      0.07      0.11        14\n",
      "       10017       0.00      0.00      0.00        12\n",
      "       10018       0.50      0.30      0.37        10\n",
      "       10019       0.38      0.20      0.26        15\n",
      "\n",
      "   micro avg       0.49      0.49      0.49       500\n",
      "   macro avg       0.31      0.29      0.29       500\n",
      "weighted avg       0.47      0.49      0.47       500\n",
      "\n"
     ]
    }
   ],
   "source": [
    "y_pred = model.predict(X_test)\n",
    "print(classification_report(y_test, y_pred))"
   ]
  },
  {
   "cell_type": "code",
   "execution_count": 275,
   "metadata": {},
   "outputs": [
    {
     "name": "stdout",
     "output_type": "stream",
     "text": [
      "              precision    recall  f1-score   support\n",
      "\n",
      "       10000       0.83      0.81      0.82       188\n",
      "       10001       0.77      0.69      0.73       104\n",
      "       10002       0.69      0.80      0.74        99\n",
      "       10003       0.69      0.75      0.72       271\n",
      "       10004       1.00      0.60      0.75        15\n",
      "       10005       0.73      0.83      0.78       142\n",
      "       10006       0.84      0.74      0.78       145\n",
      "       10007       0.00      0.00      0.00         5\n",
      "       10008       0.79      0.81      0.80       117\n",
      "       10009       0.73      0.67      0.70        12\n",
      "       10010       0.56      0.71      0.63        45\n",
      "       10011       1.00      0.17      0.29         6\n",
      "       10012       0.78      0.67      0.72        21\n",
      "       10013       0.78      0.85      0.81        67\n",
      "       10014       0.92      0.52      0.67        23\n",
      "       10015       0.81      0.96      0.88        95\n",
      "       10016       0.68      0.60      0.64        45\n",
      "       10017       0.82      0.51      0.63        35\n",
      "       10018       0.73      0.68      0.70        28\n",
      "       10019       0.88      0.59      0.71        37\n",
      "\n",
      "   micro avg       0.76      0.76      0.76      1500\n",
      "   macro avg       0.75      0.65      0.67      1500\n",
      "weighted avg       0.76      0.76      0.75      1500\n",
      "\n"
     ]
    }
   ],
   "source": [
    "y_pred = model.predict(X_train)\n",
    "print(classification_report(y_train, y_pred))"
   ]
  },
  {
   "cell_type": "code",
   "execution_count": 283,
   "metadata": {},
   "outputs": [
    {
     "name": "stdout",
     "output_type": "stream",
     "text": [
      "              precision    recall  f1-score   support\n",
      "\n",
      "       10000       0.82      0.41      0.55        56\n",
      "       10001       0.00      0.00      0.00        36\n",
      "       10002       0.00      0.00      0.00        31\n",
      "       10003       0.19      0.99      0.31        87\n",
      "       10004       0.00      0.00      0.00         2\n",
      "       10005       0.00      0.00      0.00        52\n",
      "       10006       1.00      0.07      0.13        44\n",
      "       10007       0.00      0.00      0.00         2\n",
      "       10008       0.60      0.07      0.12        46\n",
      "       10009       0.00      0.00      0.00         4\n",
      "       10010       0.00      0.00      0.00        11\n",
      "       10011       0.00      0.00      0.00         7\n",
      "       10012       0.00      0.00      0.00         4\n",
      "       10013       0.00      0.00      0.00        37\n",
      "       10014       0.00      0.00      0.00         6\n",
      "       10015       0.00      0.00      0.00        24\n",
      "       10016       0.00      0.00      0.00        14\n",
      "       10017       0.00      0.00      0.00        12\n",
      "       10018       0.00      0.00      0.00        10\n",
      "       10019       0.00      0.00      0.00        15\n",
      "\n",
      "   micro avg       0.23      0.23      0.23       500\n",
      "   macro avg       0.13      0.08      0.06       500\n",
      "weighted avg       0.27      0.23      0.14       500\n",
      "\n"
     ]
    }
   ],
   "source": [
    "from sklearn.ensemble import RandomForestClassifier\n",
    "clf2 = RandomForestClassifier(n_estimators=100, max_depth=2, random_state=0)\n",
    "model2 = clf2.fit(X_train, y_train)\n",
    "y_pred = model2.predict(X_test)\n",
    "print(classification_report(y_test, y_pred))"
   ]
  },
  {
   "cell_type": "code",
   "execution_count": 277,
   "metadata": {},
   "outputs": [
    {
     "data": {
      "text/plain": [
       "0.49"
      ]
     },
     "execution_count": 277,
     "metadata": {},
     "output_type": "execute_result"
    }
   ],
   "source": [
    "clf.score(X_test,y_test)"
   ]
  },
  {
   "cell_type": "code",
   "execution_count": 278,
   "metadata": {},
   "outputs": [],
   "source": [
    "# y_pred = model_new.predict(text_data[1500:])\n",
    "# print(classification_report(Y[1500:], y_pred))"
   ]
  },
  {
   "cell_type": "code",
   "execution_count": 281,
   "metadata": {},
   "outputs": [
    {
     "name": "stdout",
     "output_type": "stream",
     "text": [
      "[0.48648649 0.46419753 0.50374065 0.50377834 0.52307692]\n",
      "F1 micro Accuracy: 0.50 (+/- 0.04)\n"
     ]
    }
   ],
   "source": [
    "from sklearn.model_selection import cross_val_score\n",
    "from sklearn.pipeline import make_pipeline\n",
    "clf = make_pipeline(CountVectorizer(preprocessor=newProcess, tokenizer=myTokenizer, max_features=700, ngram_range=(1, 1), min_df = 4, max_df = 0.2), MultinomialNB(alpha = 0.75))\n",
    "scores = cross_val_score(clf,text_data,Y,cv=5,scoring = 'f1_micro')\n",
    "print(scores)\n",
    "print(\"F1 micro Accuracy: %0.2f (+/- %0.2f)\" % (scores.mean(), scores.std() * 2))"
   ]
  },
  {
   "cell_type": "code",
   "execution_count": 280,
   "metadata": {},
   "outputs": [],
   "source": [
    "# y_pred = model_new.predict(text_data[:1500])\n",
    "# print(classification_report(Y[:1500], y_pred))"
   ]
  }
 ],
 "metadata": {
  "kernelspec": {
   "display_name": "Python 3",
   "language": "python",
   "name": "python3"
  },
  "language_info": {
   "codemirror_mode": {
    "name": "ipython",
    "version": 3
   },
   "file_extension": ".py",
   "mimetype": "text/x-python",
   "name": "python",
   "nbconvert_exporter": "python",
   "pygments_lexer": "ipython3",
   "version": "3.7.3"
  }
 },
 "nbformat": 4,
 "nbformat_minor": 2
}
