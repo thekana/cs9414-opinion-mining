{
 "cells": [
  {
   "cell_type": "code",
   "execution_count": 1,
   "metadata": {},
   "outputs": [],
   "source": [
    "import pandas as pd\n",
    "import csv, sys, re\n",
    "import numpy as np\n",
    "from sklearn.feature_extraction.text import CountVectorizer\n",
    "from sklearn.naive_bayes import MultinomialNB, BernoulliNB\n",
    "from sklearn.metrics import accuracy_score, precision_score, recall_score, f1_score, classification_report\n",
    "from sklearn import tree, metrics\n",
    "from sklearn.utils import shuffle\n",
    "from sklearn.dummy import DummyClassifier\n",
    "\n",
    "df = pd.read_csv('dataset.tsv', sep='\\t', quoting=csv.QUOTE_NONE , dtype= str, header = None, names=[\"instance\", \"text\", \"id\", \"sentiment\",\"is_sarcastic\"])"
   ]
  },
  {
   "cell_type": "code",
   "execution_count": 2,
   "metadata": {},
   "outputs": [
    {
     "data": {
      "text/html": [
       "<div>\n",
       "<style scoped>\n",
       "    .dataframe tbody tr th:only-of-type {\n",
       "        vertical-align: middle;\n",
       "    }\n",
       "\n",
       "    .dataframe tbody tr th {\n",
       "        vertical-align: top;\n",
       "    }\n",
       "\n",
       "    .dataframe thead th {\n",
       "        text-align: right;\n",
       "    }\n",
       "</style>\n",
       "<table border=\"1\" class=\"dataframe\">\n",
       "  <thead>\n",
       "    <tr style=\"text-align: right;\">\n",
       "      <th></th>\n",
       "      <th>instance</th>\n",
       "      <th>text</th>\n",
       "      <th>id</th>\n",
       "      <th>sentiment</th>\n",
       "      <th>is_sarcastic</th>\n",
       "    </tr>\n",
       "  </thead>\n",
       "  <tbody>\n",
       "    <tr>\n",
       "      <th>0</th>\n",
       "      <td>1</td>\n",
       "      <td>Liberals might not be talking about #Parakeeli...</td>\n",
       "      <td>10000</td>\n",
       "      <td>negative</td>\n",
       "      <td>false</td>\n",
       "    </tr>\n",
       "    <tr>\n",
       "      <th>1</th>\n",
       "      <td>2</td>\n",
       "      <td>.@TurnbullMalcolm to CFA volunteers: \"Your sel...</td>\n",
       "      <td>10006</td>\n",
       "      <td>neutral</td>\n",
       "      <td>false</td>\n",
       "    </tr>\n",
       "    <tr>\n",
       "      <th>2</th>\n",
       "      <td>3</td>\n",
       "      <td>Peter Dutton's been  “An Outstanding Immigrati...</td>\n",
       "      <td>10008</td>\n",
       "      <td>neutral</td>\n",
       "      <td>false</td>\n",
       "    </tr>\n",
       "    <tr>\n",
       "      <th>3</th>\n",
       "      <td>4</td>\n",
       "      <td>If we are to respect women, we must respect S9...</td>\n",
       "      <td>10008</td>\n",
       "      <td>negative</td>\n",
       "      <td>false</td>\n",
       "    </tr>\n",
       "    <tr>\n",
       "      <th>4</th>\n",
       "      <td>5</td>\n",
       "      <td>#auspol @TurnbullMalcolm @Barnaby_Joyce We nee...</td>\n",
       "      <td>10000</td>\n",
       "      <td>negative</td>\n",
       "      <td>false</td>\n",
       "    </tr>\n",
       "    <tr>\n",
       "      <th>5</th>\n",
       "      <td>6</td>\n",
       "      <td>@ABC24 @PM. Chaotic hung Govt? Most chaos was ...</td>\n",
       "      <td>10006</td>\n",
       "      <td>negative</td>\n",
       "      <td>false</td>\n",
       "    </tr>\n",
       "    <tr>\n",
       "      <th>6</th>\n",
       "      <td>7</td>\n",
       "      <td>Fascist class warfare killings has only just b...</td>\n",
       "      <td>10006</td>\n",
       "      <td>negative</td>\n",
       "      <td>false</td>\n",
       "    </tr>\n",
       "    <tr>\n",
       "      <th>7</th>\n",
       "      <td>8</td>\n",
       "      <td>Why the #LNP will not stand up to the banks, d...</td>\n",
       "      <td>10002</td>\n",
       "      <td>negative</td>\n",
       "      <td>false</td>\n",
       "    </tr>\n",
       "    <tr>\n",
       "      <th>8</th>\n",
       "      <td>9</td>\n",
       "      <td>?Turnbull couldn't find a real tradie- now con...</td>\n",
       "      <td>10001</td>\n",
       "      <td>negative</td>\n",
       "      <td>false</td>\n",
       "    </tr>\n",
       "    <tr>\n",
       "      <th>9</th>\n",
       "      <td>10</td>\n",
       "      <td>While we're asking about #BorderFarce fiasco, ...</td>\n",
       "      <td>10001</td>\n",
       "      <td>negative</td>\n",
       "      <td>false</td>\n",
       "    </tr>\n",
       "  </tbody>\n",
       "</table>\n",
       "</div>"
      ],
      "text/plain": [
       "  instance                                               text     id  \\\n",
       "0        1  Liberals might not be talking about #Parakeeli...  10000   \n",
       "1        2  .@TurnbullMalcolm to CFA volunteers: \"Your sel...  10006   \n",
       "2        3  Peter Dutton's been  “An Outstanding Immigrati...  10008   \n",
       "3        4  If we are to respect women, we must respect S9...  10008   \n",
       "4        5  #auspol @TurnbullMalcolm @Barnaby_Joyce We nee...  10000   \n",
       "5        6  @ABC24 @PM. Chaotic hung Govt? Most chaos was ...  10006   \n",
       "6        7  Fascist class warfare killings has only just b...  10006   \n",
       "7        8  Why the #LNP will not stand up to the banks, d...  10002   \n",
       "8        9  ?Turnbull couldn't find a real tradie- now con...  10001   \n",
       "9       10  While we're asking about #BorderFarce fiasco, ...  10001   \n",
       "\n",
       "  sentiment is_sarcastic  \n",
       "0  negative        false  \n",
       "1   neutral        false  \n",
       "2   neutral        false  \n",
       "3  negative        false  \n",
       "4  negative        false  \n",
       "5  negative        false  \n",
       "6  negative        false  \n",
       "7  negative        false  \n",
       "8  negative        false  \n",
       "9  negative        false  "
      ]
     },
     "execution_count": 2,
     "metadata": {},
     "output_type": "execute_result"
    }
   ],
   "source": [
    "#df=shuffle(df)\n",
    "df.head(10)"
   ]
  },
  {
   "cell_type": "code",
   "execution_count": 3,
   "metadata": {},
   "outputs": [
    {
     "data": {
      "text/plain": [
       "\"Peter Dutton's been  “An Outstanding Immigration Minister” https://t.co/h42MHZERwS #auspol #immigration\""
      ]
     },
     "execution_count": 3,
     "metadata": {},
     "output_type": "execute_result"
    }
   ],
   "source": [
    "df['text'][2]"
   ]
  },
  {
   "cell_type": "code",
   "execution_count": 4,
   "metadata": {},
   "outputs": [
    {
     "data": {
      "text/plain": [
       "negative    1294\n",
       "neutral      553\n",
       "positive     153\n",
       "Name: sentiment, dtype: int64"
      ]
     },
     "execution_count": 4,
     "metadata": {},
     "output_type": "execute_result"
    }
   ],
   "source": [
    "df.sentiment.value_counts()"
   ]
  },
  {
   "cell_type": "code",
   "execution_count": 5,
   "metadata": {
    "scrolled": true
   },
   "outputs": [
    {
     "data": {
      "text/plain": [
       "10003    358\n",
       "10000    244\n",
       "10005    194\n",
       "10006    189\n",
       "10008    163\n",
       "10001    140\n",
       "10002    130\n",
       "10015    119\n",
       "10013    104\n",
       "10016     59\n",
       "10010     56\n",
       "10019     52\n",
       "10017     47\n",
       "10018     38\n",
       "10014     29\n",
       "10012     25\n",
       "10004     17\n",
       "10009     16\n",
       "10011     13\n",
       "10007      7\n",
       "Name: id, dtype: int64"
      ]
     },
     "execution_count": 5,
     "metadata": {},
     "output_type": "execute_result"
    }
   ],
   "source": [
    "df.id.value_counts()"
   ]
  },
  {
   "cell_type": "code",
   "execution_count": 6,
   "metadata": {},
   "outputs": [
    {
     "data": {
      "text/plain": [
       "array(['Liberals might not be talking about #Parakeelia MSM might not be talking about #Parakeelia Voters are very interested in #Parakeelia #auspol',\n",
       "       '.@TurnbullMalcolm to CFA volunteers: \"Your selflessness is being trampled on.\" #ausvotes #springst @abcnews https://t.co/ChVU3Lh1bV',\n",
       "       \"Peter Dutton's been  “An Outstanding Immigration Minister” https://t.co/h42MHZERwS #auspol #immigration\",\n",
       "       ...,\n",
       "       'What happenned to our whistle-blower legislation??? #Auspol #LNPFail #Ausvotes https://t.co/NiKy7DHsEs',\n",
       "       '#auspol  #Election2016  Turnbull too poor to face voters on #quanda @quanda   Shame on you  Rich cayman islands  millionaire',\n",
       "       '@brucerossbrc What is the going rate for LNP kick-backs!? #Parakeelia #AUSvotes #AUSpol'],\n",
       "      dtype='<U149')"
      ]
     },
     "execution_count": 6,
     "metadata": {},
     "output_type": "execute_result"
    }
   ],
   "source": [
    "text_data = np.array([])\n",
    "for text in df.text:\n",
    "    text_data = np.append(text_data,text)\n",
    "text_data"
   ]
  },
  {
   "cell_type": "code",
   "execution_count": 10,
   "metadata": {},
   "outputs": [],
   "source": [
    "def remove_URL(sample):\n",
    "    \"\"\"Remove URLs from a sample string\"\"\"\n",
    "    return re.sub(r\"http\\S+\", \"\", sample)\n",
    "\n",
    "\n",
    "def remove_punctuation(sample):\n",
    "    \"\"\"Remove punctuations from a sample string\"\"\"\n",
    "#     punctuations = '''!\"&'()*+,-./:;<=>?[\\]^`{|}~'''\n",
    "#     no_punct = \"\"\n",
    "#     for char in sample:\n",
    "#         if char not in punctuations:\n",
    "#             no_punct = no_punct + char\n",
    "#     return no_punct\n",
    "    return re.sub(r'[^\\w\\s\\&\\#\\@\\$\\%\\_]','',sample)\n",
    "\n",
    "def myPreprocessor(sample):\n",
    "    \"\"\"Customized preprocessor\"\"\"\n",
    "    sample = remove_URL(sample)\n",
    "    sample = remove_punctuation(sample)\n",
    "    return sample\n",
    "\n",
    "\n",
    "def myTokenizer(sample):\n",
    "    \"\"\"Customized tokenizer\"\"\"\n",
    "    new_words = []\n",
    "    words = sample.split(' ')\n",
    "    new_words = [word for word in words if len(word) >= 2]\n",
    "    return new_words"
   ]
  },
  {
   "cell_type": "code",
   "execution_count": 11,
   "metadata": {},
   "outputs": [
    {
     "data": {
      "text/plain": [
       "'Peter Duttons been  An Outstanding Immigration Minister  #auspol #immigration'"
      ]
     },
     "execution_count": 11,
     "metadata": {},
     "output_type": "execute_result"
    }
   ],
   "source": [
    "myPreprocessor(df.text[2])"
   ]
  },
  {
   "cell_type": "code",
   "execution_count": 12,
   "metadata": {},
   "outputs": [
    {
     "data": {
      "text/plain": [
       "['Peter',\n",
       " 'Duttons',\n",
       " 'been',\n",
       " 'An',\n",
       " 'Outstanding',\n",
       " 'Immigration',\n",
       " 'Minister',\n",
       " '#auspol',\n",
       " '#immigration']"
      ]
     },
     "execution_count": 12,
     "metadata": {},
     "output_type": "execute_result"
    }
   ],
   "source": [
    "myTokenizer(myPreprocessor(df.text[2]))"
   ]
  },
  {
   "cell_type": "code",
   "execution_count": 13,
   "metadata": {},
   "outputs": [
    {
     "data": {
      "text/plain": [
       "'@ABC24 @PM. Chaotic hung Govt? Most chaos was by LNP .. Interrupting Q time,disgusting treatment of P Slipper, and female PM etc.#ausvotes'"
      ]
     },
     "execution_count": 13,
     "metadata": {},
     "output_type": "execute_result"
    }
   ],
   "source": [
    "df.text[5]"
   ]
  },
  {
   "cell_type": "code",
   "execution_count": 14,
   "metadata": {
    "scrolled": true
   },
   "outputs": [
    {
     "name": "stdout",
     "output_type": "stream",
     "text": [
      "['#AFPRaids', '#AusPol', '#AusVotes', '#Auspol', '#Ausvotes', '#Brexit', '#Election2016', '#LNP', '#LNPfail', '#Labor', '#Medicare', '#NBN', '#Parakeelia', '#auspol', '#ausvotes', '#ausvotes2016', '#insiders', '#npc', '#qanda', '@AustralianLabor', '@LiberalAus', '@RichardDiNatale', '@TurnbullMalcolm', '@billshortenmp', 'AFP', 'ALP', 'Abbott', 'Australia', 'Australian', 'Australians', 'Bill', 'Coalition', 'Dutton', 'Government', 'Govt', 'Greens', 'How', 'If', 'Its', 'Joyce', 'LNP', 'Labor', 'Labors', 'Liberal', 'Liberals', 'Libs', 'Malcolm', 'Medicare', 'Morrison', 'NBN', 'No', 'Not', 'PM', 'Party', 'Peter', 'Shorten', 'So', 'THE', 'The', 'This', 'Turnbull', 'Turnbulls', 'VOTE', 'Vote', 'We', 'What', 'Why', 'You', 'about', 'after', 'again', 'all', 'amp', 'an', 'and', 'any', 'are', 'as', 'at', 'back', 'be', 'because', 'been', 'big', 'boats', 'budget', 'business', 'but', 'by', 'campaign', 'can', 'cant', 'care', 'could', 'cut', 'cuts', 'did', 'do', 'dont', 'down', 'economic', 'economy', 'education', 'election', 'even', 'for', 'from', 'funding', 'gearing', 'get', 'going', 'good', 'government', 'govt', 'growth', 'had', 'has', 'have', 'he', 'health', 'his', 'how', 'if', 'in', 'into', 'is', 'it', 'its', 'jobs', 'just', 'know', 'labor', 'last', 'like', 'money', 'more', 'must', 'need', 'no', 'not', 'now', 'of', 'on', 'one', 'only', 'or', 'our', 'out', 'over', 'own', 'party', 'pay', 'people', 'plan', 'plans', 'plebiscite', 'policy', 'put', 'refugees', 'right', 'say', 'says', 'schools', 'so', 'support', 'take', 'tax', 'taxes', 'than', 'that', 'the', 'their', 'them', 'there', 'they', 'think', 'this', 'time', 'to', 'under', 'up', 'us', 'via', 'vote', 'want', 'wants', 'was', 'we', 'what', 'when', 'who', 'why', 'will', 'with', 'wont', 'work', 'workers', 'would', 'you', 'your']\n",
      "{'Liberals': 44, 'not': 139, 'be': 80, 'about': 68, '#Parakeelia': 12, 'are': 76, 'in': 123, '#auspol': 13, '@TurnbullMalcolm': 22, 'to': 178, 'is': 125, 'on': 142, '#ausvotes': 14, 'Peter': 54, 'been': 82, 'If': 37, 'we': 187, 'must': 136, 'We': 64, 'need': 137, 'an': 73, 'Govt': 34, 'was': 186, 'by': 88, 'LNP': 40, 'of': 141, 'and': 74, 'PM': 52, 'has': 116, 'only': 144, 'just': 129, 'who': 190, 'for': 105, '#Auspol': 3, '#Ausvotes': 4, 'Why': 66, 'the': 170, '#LNP': 7, 'will': 192, 'up': 180, 'big': 83, 'business': 86, 'tax': 166, '#insiders': 16, 'Turnbull': 60, 'now': 140, 'workers': 196, 'have': 117, 'their': 171, 'say': 160, 'when': 189, 'did': 96, 'last': 132, 'boats': 84, 'as': 77, 'more': 135, 'time': 177, 'The': 58, 'one': 143, 'amp': 72, 'Australia': 27, 'from': 106, 'after': 69, 'government': 112, 'No': 50, 'plebiscite': 155, 'you': 198, 'how': 121, 'do': 97, 'Labor': 41, 'Coalition': 31, '#NBN': 11, 'policy': 156, '#Medicare': 10, 'than': 168, 'This': 59, 'what': 188, 'think': 175, 'if': 122, 'campaign': 89, 'growth': 114, 'under': 179, '@LiberalAus': 20, 'with': 193, 'govt': 113, 'no': 138, 'cuts': 95, 'health': 119, 'education': 102, 'or': 145, 'Medicare': 47, 'You': 67, 'plans': 154, '@AustralianLabor': 19, 'Liberal': 43, 'money': 134, 'at': 78, 'work': 195, 'them': 172, 'pay': 151, 'it': 126, 'that': 169, 'Joyce': 39, 'wants': 185, 'schools': 162, 'jobs': 128, 'says': 161, '@billshortenmp': 23, 'Turnbulls': 61, '#AusVotes': 2, 'Abbott': 26, '#AFPRaids': 0, 'so': 163, 'can': 90, 'your': 199, 'want': 184, 'vote': 183, 'Party': 53, 'via': 182, 'party': 150, 'this': 176, 'election': 103, 'but': 87, 'VOTE': 62, 'there': 173, 'he': 118, 'had': 115, 'like': 133, 'Shorten': 55, 'plan': 153, '#Brexit': 5, 'good': 111, 'economic': 100, 'people': 152, 'ALP': 25, 'could': 93, 'even': 104, 'Bill': 30, '#Election2016': 6, 'Morrison': 48, '#qanda': 18, 'AFP': 24, 'NBN': 49, '#Labor': 9, 'his': 120, 'because': 81, 'out': 147, 'Malcolm': 46, 'cant': 91, 'put': 157, 'labor': 131, 'our': 146, 'budget': 85, 'know': 130, '@RichardDiNatale': 21, 'Australians': 29, 'take': 165, 'again': 70, 'gearing': 108, 'back': 79, 'all': 71, 'its': 127, 'down': 99, 'Labors': 42, 'care': 92, 'going': 110, 'they': 174, 'economy': 101, 'Not': 51, 'into': 124, '#npc': 17, 'would': 197, 'What': 65, 'Dutton': 32, '#ausvotes2016': 15, 'over': 148, 'support': 164, 'wont': 194, 'cut': 94, 'get': 109, 'funding': 107, 'So': 56, 'why': 191, 'us': 181, 'Australian': 28, 'Its': 38, 'own': 149, '#LNPfail': 8, 'How': 36, 'taxes': 167, 'Libs': 45, 'THE': 57, 'dont': 98, 'right': 159, 'refugees': 158, 'any': 75, 'Greens': 35, 'Vote': 63, 'Government': 33, '#AusPol': 1}\n"
     ]
    }
   ],
   "source": [
    "count = CountVectorizer(preprocessor=myPreprocessor, lowercase = False, tokenizer=myTokenizer ,max_features = 200)\n",
    "bag_of_words = count.fit_transform(text_data)\n",
    "print(count.get_feature_names())\n",
    "print(count.vocabulary_)"
   ]
  },
  {
   "cell_type": "code",
   "execution_count": 19,
   "metadata": {},
   "outputs": [
    {
     "data": {
      "text/plain": [
       "array([0, 0, 0, 0, 0, 0, 0, 0, 0, 0, 0, 0, 3, 1, 0, 0, 0, 0, 0, 0, 0, 0,\n",
       "       0, 0, 0, 0, 0, 0, 0, 0, 0, 0, 0, 0, 0, 0, 0, 0, 0, 0, 0, 0, 0, 0,\n",
       "       1, 0, 0, 0, 0, 0, 0, 0, 0, 0, 0, 0, 0, 0, 0, 0, 0, 0, 0, 0, 0, 0,\n",
       "       0, 0, 2, 0, 0, 0, 0, 0, 0, 0, 1, 0, 0, 0, 2, 0, 0, 0, 0, 0, 0, 0,\n",
       "       0, 0, 0, 0, 0, 0, 0, 0, 0, 0, 0, 0, 0, 0, 0, 0, 0, 0, 0, 0, 0, 0,\n",
       "       0, 0, 0, 0, 0, 0, 0, 0, 0, 0, 0, 0, 0, 1, 0, 0, 0, 0, 0, 0, 0, 0,\n",
       "       0, 0, 0, 0, 0, 0, 0, 2, 0, 0, 0, 0, 0, 0, 0, 0, 0, 0, 0, 0, 0, 0,\n",
       "       0, 0, 0, 0, 0, 0, 0, 0, 0, 0, 0, 0, 0, 0, 0, 0, 0, 0, 0, 0, 0, 0,\n",
       "       0, 0, 0, 0, 0, 0, 0, 0, 0, 0, 0, 0, 0, 0, 0, 0, 0, 0, 0, 0, 0, 0,\n",
       "       0, 0], dtype=int64)"
      ]
     },
     "execution_count": 19,
     "metadata": {},
     "output_type": "execute_result"
    }
   ],
   "source": [
    "X = bag_of_words.toarray()\n",
    "len(X[0])\n",
    "X[0]"
   ]
  },
  {
   "cell_type": "code",
   "execution_count": 21,
   "metadata": {},
   "outputs": [
    {
     "data": {
      "text/plain": [
       "array(['negative', 'neutral', 'neutral', ..., 'negative', 'negative',\n",
       "       'negative'], dtype='<U32')"
      ]
     },
     "execution_count": 21,
     "metadata": {},
     "output_type": "execute_result"
    }
   ],
   "source": [
    "#target classes\n",
    "Y = np.array([])\n",
    "for text in df.sentiment:\n",
    "    Y = np.append(Y,text)\n",
    "Y"
   ]
  },
  {
   "cell_type": "code",
   "execution_count": 22,
   "metadata": {},
   "outputs": [],
   "source": [
    "X_train = X[:1500]\n",
    "X_test = X[1500:]\n",
    "y_train = Y[:1500]\n",
    "y_test = Y[1500:]"
   ]
  },
  {
   "cell_type": "code",
   "execution_count": 23,
   "metadata": {},
   "outputs": [],
   "source": [
    "#clf = MultinomialNB()\n",
    "#clf = BernoulliNB()\n",
    "clf = tree.DecisionTreeClassifier(criterion='entropy',random_state=0)\n",
    "clf2 = DummyClassifier(strategy= 'most_frequent')\n",
    "model = clf.fit(X_train, y_train)\n",
    "model2 = clf2.fit(X_train,y_train)"
   ]
  },
  {
   "cell_type": "code",
   "execution_count": 25,
   "metadata": {},
   "outputs": [
    {
     "data": {
      "text/plain": [
       "array(['negative', 'negative', 'neutral', 'negative', 'neutral',\n",
       "       'neutral', 'negative', 'neutral', 'positive', 'neutral', 'neutral',\n",
       "       'neutral', 'negative', 'negative', 'negative', 'negative',\n",
       "       'negative', 'neutral', 'negative', 'neutral', 'positive',\n",
       "       'negative', 'neutral', 'negative', 'neutral', 'negative',\n",
       "       'negative', 'negative', 'negative', 'negative', 'negative',\n",
       "       'negative', 'neutral', 'positive', 'neutral', 'negative',\n",
       "       'neutral', 'negative', 'negative', 'negative', 'neutral',\n",
       "       'negative', 'positive', 'neutral', 'negative', 'negative',\n",
       "       'neutral', 'negative', 'negative', 'negative', 'neutral',\n",
       "       'neutral', 'negative', 'negative', 'negative', 'negative',\n",
       "       'negative', 'negative', 'negative', 'negative', 'negative',\n",
       "       'negative', 'negative', 'negative', 'negative', 'neutral',\n",
       "       'negative', 'negative', 'negative', 'negative', 'negative',\n",
       "       'neutral', 'negative', 'negative', 'neutral', 'neutral',\n",
       "       'positive', 'negative', 'negative', 'negative', 'neutral',\n",
       "       'neutral', 'positive', 'negative', 'negative', 'neutral',\n",
       "       'neutral', 'neutral', 'negative', 'negative', 'negative',\n",
       "       'negative', 'negative', 'negative', 'negative', 'neutral',\n",
       "       'negative', 'neutral', 'negative', 'negative', 'neutral',\n",
       "       'neutral', 'negative', 'negative', 'neutral', 'negative',\n",
       "       'negative', 'neutral', 'positive', 'neutral', 'neutral', 'neutral',\n",
       "       'negative', 'neutral', 'negative', 'neutral', 'negative',\n",
       "       'neutral', 'negative', 'neutral', 'negative', 'negative',\n",
       "       'negative', 'neutral', 'negative', 'neutral', 'negative',\n",
       "       'negative', 'neutral', 'negative', 'negative', 'negative',\n",
       "       'negative', 'neutral', 'negative', 'negative', 'negative',\n",
       "       'negative', 'negative', 'neutral', 'negative', 'negative',\n",
       "       'negative', 'negative', 'positive', 'negative', 'neutral',\n",
       "       'negative', 'negative', 'negative', 'negative', 'negative',\n",
       "       'neutral', 'negative', 'positive', 'neutral', 'neutral',\n",
       "       'negative', 'neutral', 'negative', 'negative', 'positive',\n",
       "       'negative', 'neutral', 'negative', 'negative', 'negative',\n",
       "       'negative', 'neutral', 'neutral', 'negative', 'negative',\n",
       "       'negative', 'positive', 'negative', 'positive', 'negative',\n",
       "       'negative', 'neutral', 'negative', 'negative', 'negative',\n",
       "       'neutral', 'neutral', 'neutral', 'negative', 'negative', 'neutral',\n",
       "       'negative', 'negative', 'negative', 'positive', 'negative',\n",
       "       'negative', 'negative', 'neutral', 'negative', 'neutral',\n",
       "       'negative', 'negative', 'neutral', 'negative', 'negative',\n",
       "       'neutral', 'positive', 'neutral', 'negative', 'neutral',\n",
       "       'negative', 'negative', 'neutral', 'positive', 'negative',\n",
       "       'negative', 'negative', 'negative', 'negative', 'negative',\n",
       "       'negative', 'neutral', 'neutral', 'neutral', 'positive',\n",
       "       'negative', 'negative', 'negative', 'positive', 'negative',\n",
       "       'neutral', 'negative', 'neutral', 'negative', 'negative',\n",
       "       'neutral', 'negative', 'negative', 'positive', 'positive',\n",
       "       'negative', 'neutral', 'negative', 'negative', 'negative',\n",
       "       'neutral', 'negative', 'positive', 'negative', 'neutral',\n",
       "       'neutral', 'neutral', 'negative', 'neutral', 'neutral', 'negative',\n",
       "       'negative', 'neutral', 'neutral', 'neutral', 'neutral', 'neutral',\n",
       "       'negative', 'negative', 'negative', 'negative', 'negative',\n",
       "       'neutral', 'neutral', 'negative', 'negative', 'neutral',\n",
       "       'negative', 'neutral', 'neutral', 'negative', 'neutral',\n",
       "       'negative', 'negative', 'negative', 'neutral', 'negative',\n",
       "       'neutral', 'negative', 'neutral', 'negative', 'neutral',\n",
       "       'negative', 'negative', 'negative', 'negative', 'negative',\n",
       "       'negative', 'neutral', 'negative', 'negative', 'negative',\n",
       "       'negative', 'neutral', 'negative', 'negative', 'neutral',\n",
       "       'negative', 'neutral', 'negative', 'neutral', 'neutral', 'neutral',\n",
       "       'negative', 'negative', 'negative', 'positive', 'negative',\n",
       "       'positive', 'negative', 'neutral', 'neutral', 'positive',\n",
       "       'negative', 'negative', 'negative', 'negative', 'negative',\n",
       "       'neutral', 'negative', 'negative', 'neutral', 'neutral',\n",
       "       'negative', 'neutral', 'negative', 'negative', 'negative',\n",
       "       'negative', 'negative', 'negative', 'neutral', 'negative',\n",
       "       'negative', 'negative', 'negative', 'negative', 'negative',\n",
       "       'neutral', 'neutral', 'negative', 'neutral', 'negative',\n",
       "       'negative', 'negative', 'negative', 'neutral', 'neutral',\n",
       "       'negative', 'negative', 'neutral', 'neutral', 'negative',\n",
       "       'negative', 'neutral', 'neutral', 'neutral', 'negative',\n",
       "       'negative', 'neutral', 'negative', 'neutral', 'neutral',\n",
       "       'negative', 'negative', 'negative', 'negative', 'positive',\n",
       "       'neutral', 'negative', 'negative', 'negative', 'negative',\n",
       "       'neutral', 'neutral', 'neutral', 'neutral', 'neutral', 'neutral',\n",
       "       'neutral', 'negative', 'negative', 'neutral', 'neutral',\n",
       "       'negative', 'negative', 'negative', 'negative', 'negative',\n",
       "       'neutral', 'neutral', 'negative', 'negative', 'neutral',\n",
       "       'negative', 'negative', 'negative', 'neutral', 'negative',\n",
       "       'negative', 'negative', 'negative', 'neutral', 'negative',\n",
       "       'negative', 'neutral', 'neutral', 'neutral', 'neutral', 'neutral',\n",
       "       'negative', 'negative', 'negative', 'neutral', 'negative',\n",
       "       'negative', 'neutral', 'negative', 'positive', 'negative',\n",
       "       'neutral', 'negative', 'negative', 'neutral', 'negative',\n",
       "       'negative', 'neutral', 'negative', 'neutral', 'negative',\n",
       "       'neutral', 'negative', 'negative', 'neutral', 'negative',\n",
       "       'neutral', 'negative', 'neutral', 'neutral', 'neutral', 'neutral',\n",
       "       'negative', 'negative', 'negative', 'negative', 'neutral',\n",
       "       'negative', 'positive', 'negative', 'negative', 'negative',\n",
       "       'neutral', 'neutral', 'neutral', 'negative', 'negative',\n",
       "       'positive', 'neutral', 'neutral', 'negative', 'negative',\n",
       "       'negative', 'negative', 'positive', 'neutral', 'negative',\n",
       "       'negative', 'negative', 'neutral', 'neutral', 'negative',\n",
       "       'neutral', 'negative', 'negative', 'positive', 'negative',\n",
       "       'negative', 'negative', 'negative', 'negative', 'negative',\n",
       "       'negative', 'negative', 'positive', 'negative', 'negative',\n",
       "       'negative', 'negative', 'neutral', 'negative', 'neutral',\n",
       "       'negative', 'neutral', 'negative', 'negative', 'neutral',\n",
       "       'neutral'], dtype='<U32')"
      ]
     },
     "execution_count": 25,
     "metadata": {},
     "output_type": "execute_result"
    }
   ],
   "source": [
    "predicted_y = model.predict(X_test)\n",
    "predicted_y2 = model2.predict(X_test)\n",
    "predicted_y"
   ]
  },
  {
   "cell_type": "code",
   "execution_count": 26,
   "metadata": {},
   "outputs": [
    {
     "name": "stdout",
     "output_type": "stream",
     "text": [
      "0.644\n",
      "0.67\n"
     ]
    }
   ],
   "source": [
    "print(accuracy_score(y_test, predicted_y))\n",
    "print(accuracy_score(y_test, predicted_y2))"
   ]
  },
  {
   "cell_type": "code",
   "execution_count": 27,
   "metadata": {},
   "outputs": [
    {
     "name": "stdout",
     "output_type": "stream",
     "text": [
      "['neutral' 'negative' 'negative' 'positive' 'negative' 'positive'\n",
      " 'negative' 'positive' 'negative' 'positive' 'positive' 'negative'\n",
      " 'negative' 'negative' 'negative' 'negative' 'negative' 'neutral'\n",
      " 'negative' 'negative' 'negative' 'negative' 'neutral' 'negative'\n",
      " 'negative' 'negative' 'negative' 'negative' 'negative' 'neutral'\n",
      " 'negative' 'negative' 'neutral' 'negative' 'negative' 'negative'\n",
      " 'neutral' 'negative' 'negative' 'negative' 'neutral' 'negative'\n",
      " 'negative' 'negative' 'negative' 'negative' 'negative' 'negative'\n",
      " 'negative' 'negative' 'neutral' 'negative' 'positive' 'negative'\n",
      " 'positive' 'negative' 'negative' 'negative' 'negative' 'negative'\n",
      " 'negative' 'neutral' 'negative' 'negative' 'negative' 'neutral'\n",
      " 'negative' 'negative' 'neutral' 'negative' 'neutral' 'neutral' 'neutral'\n",
      " 'negative' 'neutral' 'neutral' 'negative' 'neutral' 'negative' 'negative'\n",
      " 'negative' 'neutral' 'positive' 'negative' 'positive' 'negative'\n",
      " 'negative' 'positive' 'negative' 'negative' 'negative' 'neutral'\n",
      " 'neutral' 'negative' 'negative' 'neutral' 'negative' 'neutral' 'neutral'\n",
      " 'negative' 'negative' 'neutral' 'negative' 'negative' 'negative'\n",
      " 'positive' 'negative' 'neutral' 'neutral' 'negative' 'neutral' 'positive'\n",
      " 'neutral' 'negative' 'negative' 'negative' 'negative' 'neutral'\n",
      " 'negative' 'neutral' 'negative' 'negative' 'negative' 'negative'\n",
      " 'negative' 'neutral' 'neutral' 'negative' 'neutral' 'neutral' 'negative'\n",
      " 'negative' 'neutral' 'neutral' 'neutral' 'negative' 'negative' 'negative'\n",
      " 'neutral' 'negative' 'negative' 'negative' 'negative' 'positive'\n",
      " 'neutral' 'negative' 'negative' 'neutral' 'negative' 'negative'\n",
      " 'negative' 'negative' 'neutral' 'negative' 'negative' 'neutral' 'neutral'\n",
      " 'negative' 'negative' 'negative' 'negative' 'negative' 'positive'\n",
      " 'negative' 'negative' 'negative' 'negative' 'negative' 'neutral'\n",
      " 'neutral' 'positive' 'negative' 'negative' 'negative' 'negative'\n",
      " 'neutral' 'negative' 'negative' 'neutral' 'negative' 'neutral' 'negative'\n",
      " 'neutral' 'negative' 'positive' 'negative' 'negative' 'neutral'\n",
      " 'negative' 'negative' 'negative' 'negative' 'negative' 'neutral'\n",
      " 'negative' 'neutral' 'negative' 'neutral' 'neutral' 'neutral' 'negative'\n",
      " 'negative' 'negative' 'negative' 'negative' 'positive' 'negative'\n",
      " 'neutral' 'negative' 'negative' 'neutral' 'negative' 'negative'\n",
      " 'negative' 'negative' 'neutral' 'negative' 'negative' 'negative'\n",
      " 'positive' 'negative' 'negative' 'positive' 'negative' 'negative'\n",
      " 'negative' 'positive' 'negative' 'negative' 'positive' 'neutral'\n",
      " 'negative' 'negative' 'neutral' 'negative' 'negative' 'negative'\n",
      " 'positive' 'negative' 'neutral' 'negative' 'negative' 'negative'\n",
      " 'neutral' 'negative' 'negative' 'negative' 'neutral' 'positive' 'neutral'\n",
      " 'negative' 'negative' 'negative' 'negative' 'negative' 'negative'\n",
      " 'negative' 'negative' 'negative' 'negative' 'negative' 'negative'\n",
      " 'negative' 'negative' 'negative' 'neutral' 'neutral' 'negative'\n",
      " 'negative' 'neutral' 'neutral' 'neutral' 'neutral' 'negative' 'negative'\n",
      " 'neutral' 'negative' 'neutral' 'positive' 'negative' 'positive'\n",
      " 'negative' 'neutral' 'neutral' 'neutral' 'negative' 'negative' 'negative'\n",
      " 'neutral' 'negative' 'negative' 'negative' 'negative' 'negative'\n",
      " 'neutral' 'negative' 'positive' 'positive' 'negative' 'negative'\n",
      " 'negative' 'negative' 'negative' 'negative' 'negative' 'neutral'\n",
      " 'neutral' 'negative' 'negative' 'negative' 'negative' 'positive'\n",
      " 'negative' 'negative' 'negative' 'positive' 'negative' 'positive'\n",
      " 'neutral' 'negative' 'neutral' 'negative' 'negative' 'negative' 'neutral'\n",
      " 'neutral' 'negative' 'neutral' 'negative' 'negative' 'neutral' 'negative'\n",
      " 'negative' 'negative' 'neutral' 'negative' 'negative' 'positive'\n",
      " 'negative' 'neutral' 'negative' 'negative' 'negative' 'negative'\n",
      " 'negative' 'negative' 'negative' 'negative' 'negative' 'neutral'\n",
      " 'negative' 'negative' 'negative' 'negative' 'negative' 'negative'\n",
      " 'negative' 'positive' 'negative' 'negative' 'negative' 'negative'\n",
      " 'neutral' 'neutral' 'negative' 'neutral' 'negative' 'negative' 'negative'\n",
      " 'negative' 'negative' 'neutral' 'negative' 'positive' 'negative'\n",
      " 'negative' 'negative' 'negative' 'negative' 'neutral' 'neutral'\n",
      " 'negative' 'negative' 'negative' 'negative' 'neutral' 'negative'\n",
      " 'negative' 'negative' 'negative' 'positive' 'negative' 'negative'\n",
      " 'negative' 'neutral' 'neutral' 'neutral' 'neutral' 'negative' 'negative'\n",
      " 'negative' 'neutral' 'negative' 'negative' 'negative' 'neutral'\n",
      " 'negative' 'negative' 'negative' 'negative' 'neutral' 'neutral' 'neutral'\n",
      " 'neutral' 'negative' 'negative' 'neutral' 'negative' 'negative'\n",
      " 'negative' 'negative' 'negative' 'negative' 'neutral' 'negative'\n",
      " 'negative' 'negative' 'positive' 'neutral' 'neutral' 'negative'\n",
      " 'negative' 'negative' 'neutral' 'negative' 'negative' 'neutral' 'neutral'\n",
      " 'neutral' 'negative' 'neutral' 'neutral' 'negative' 'negative' 'negative'\n",
      " 'neutral' 'negative' 'positive' 'negative' 'negative' 'negative'\n",
      " 'negative' 'negative' 'negative' 'neutral' 'positive' 'positive'\n",
      " 'negative' 'negative' 'negative' 'neutral' 'neutral' 'negative'\n",
      " 'negative' 'negative' 'positive' 'positive' 'negative' 'negative'\n",
      " 'neutral' 'negative' 'negative' 'negative' 'negative' 'neutral' 'neutral'\n",
      " 'negative' 'negative' 'negative' 'negative' 'negative' 'negative'\n",
      " 'negative' 'negative' 'negative' 'negative' 'neutral' 'negative'\n",
      " 'negative' 'negative' 'neutral' 'negative' 'negative' 'negative'\n",
      " 'negative' 'neutral' 'negative' 'negative' 'negative' 'negative'] ['negative' 'negative' 'neutral' 'negative' 'neutral' 'neutral' 'negative'\n",
      " 'neutral' 'positive' 'neutral' 'neutral' 'neutral' 'negative' 'negative'\n",
      " 'negative' 'negative' 'negative' 'neutral' 'negative' 'neutral'\n",
      " 'positive' 'negative' 'neutral' 'negative' 'neutral' 'negative'\n",
      " 'negative' 'negative' 'negative' 'negative' 'negative' 'negative'\n",
      " 'neutral' 'positive' 'neutral' 'negative' 'neutral' 'negative' 'negative'\n",
      " 'negative' 'neutral' 'negative' 'positive' 'neutral' 'negative'\n",
      " 'negative' 'neutral' 'negative' 'negative' 'negative' 'neutral' 'neutral'\n",
      " 'negative' 'negative' 'negative' 'negative' 'negative' 'negative'\n",
      " 'negative' 'negative' 'negative' 'negative' 'negative' 'negative'\n",
      " 'negative' 'neutral' 'negative' 'negative' 'negative' 'negative'\n",
      " 'negative' 'neutral' 'negative' 'negative' 'neutral' 'neutral' 'positive'\n",
      " 'negative' 'negative' 'negative' 'neutral' 'neutral' 'positive'\n",
      " 'negative' 'negative' 'neutral' 'neutral' 'neutral' 'negative' 'negative'\n",
      " 'negative' 'negative' 'negative' 'negative' 'negative' 'neutral'\n",
      " 'negative' 'neutral' 'negative' 'negative' 'neutral' 'neutral' 'negative'\n",
      " 'negative' 'neutral' 'negative' 'negative' 'neutral' 'positive' 'neutral'\n",
      " 'neutral' 'neutral' 'negative' 'neutral' 'negative' 'neutral' 'negative'\n",
      " 'neutral' 'negative' 'neutral' 'negative' 'negative' 'negative' 'neutral'\n",
      " 'negative' 'neutral' 'negative' 'negative' 'neutral' 'negative'\n",
      " 'negative' 'negative' 'negative' 'neutral' 'negative' 'negative'\n",
      " 'negative' 'negative' 'negative' 'neutral' 'negative' 'negative'\n",
      " 'negative' 'negative' 'positive' 'negative' 'neutral' 'negative'\n",
      " 'negative' 'negative' 'negative' 'negative' 'neutral' 'negative'\n",
      " 'positive' 'neutral' 'neutral' 'negative' 'neutral' 'negative' 'negative'\n",
      " 'positive' 'negative' 'neutral' 'negative' 'negative' 'negative'\n",
      " 'negative' 'neutral' 'neutral' 'negative' 'negative' 'negative'\n",
      " 'positive' 'negative' 'positive' 'negative' 'negative' 'neutral'\n",
      " 'negative' 'negative' 'negative' 'neutral' 'neutral' 'neutral' 'negative'\n",
      " 'negative' 'neutral' 'negative' 'negative' 'negative' 'positive'\n",
      " 'negative' 'negative' 'negative' 'neutral' 'negative' 'neutral'\n",
      " 'negative' 'negative' 'neutral' 'negative' 'negative' 'neutral'\n",
      " 'positive' 'neutral' 'negative' 'neutral' 'negative' 'negative' 'neutral'\n",
      " 'positive' 'negative' 'negative' 'negative' 'negative' 'negative'\n",
      " 'negative' 'negative' 'neutral' 'neutral' 'neutral' 'positive' 'negative'\n",
      " 'negative' 'negative' 'positive' 'negative' 'neutral' 'negative'\n",
      " 'neutral' 'negative' 'negative' 'neutral' 'negative' 'negative'\n",
      " 'positive' 'positive' 'negative' 'neutral' 'negative' 'negative'\n",
      " 'negative' 'neutral' 'negative' 'positive' 'negative' 'neutral' 'neutral'\n",
      " 'neutral' 'negative' 'neutral' 'neutral' 'negative' 'negative' 'neutral'\n",
      " 'neutral' 'neutral' 'neutral' 'neutral' 'negative' 'negative' 'negative'\n",
      " 'negative' 'negative' 'neutral' 'neutral' 'negative' 'negative' 'neutral'\n",
      " 'negative' 'neutral' 'neutral' 'negative' 'neutral' 'negative' 'negative'\n",
      " 'negative' 'neutral' 'negative' 'neutral' 'negative' 'neutral' 'negative'\n",
      " 'neutral' 'negative' 'negative' 'negative' 'negative' 'negative'\n",
      " 'negative' 'neutral' 'negative' 'negative' 'negative' 'negative'\n",
      " 'neutral' 'negative' 'negative' 'neutral' 'negative' 'neutral' 'negative'\n",
      " 'neutral' 'neutral' 'neutral' 'negative' 'negative' 'negative' 'positive'\n",
      " 'negative' 'positive' 'negative' 'neutral' 'neutral' 'positive'\n",
      " 'negative' 'negative' 'negative' 'negative' 'negative' 'neutral'\n",
      " 'negative' 'negative' 'neutral' 'neutral' 'negative' 'neutral' 'negative'\n",
      " 'negative' 'negative' 'negative' 'negative' 'negative' 'neutral'\n",
      " 'negative' 'negative' 'negative' 'negative' 'negative' 'negative'\n",
      " 'neutral' 'neutral' 'negative' 'neutral' 'negative' 'negative' 'negative'\n",
      " 'negative' 'neutral' 'neutral' 'negative' 'negative' 'neutral' 'neutral'\n",
      " 'negative' 'negative' 'neutral' 'neutral' 'neutral' 'negative' 'negative'\n",
      " 'neutral' 'negative' 'neutral' 'neutral' 'negative' 'negative' 'negative'\n",
      " 'negative' 'positive' 'neutral' 'negative' 'negative' 'negative'\n",
      " 'negative' 'neutral' 'neutral' 'neutral' 'neutral' 'neutral' 'neutral'\n",
      " 'neutral' 'negative' 'negative' 'neutral' 'neutral' 'negative' 'negative'\n",
      " 'negative' 'negative' 'negative' 'neutral' 'neutral' 'negative'\n",
      " 'negative' 'neutral' 'negative' 'negative' 'negative' 'neutral'\n",
      " 'negative' 'negative' 'negative' 'negative' 'neutral' 'negative'\n",
      " 'negative' 'neutral' 'neutral' 'neutral' 'neutral' 'neutral' 'negative'\n",
      " 'negative' 'negative' 'neutral' 'negative' 'negative' 'neutral'\n",
      " 'negative' 'positive' 'negative' 'neutral' 'negative' 'negative'\n",
      " 'neutral' 'negative' 'negative' 'neutral' 'negative' 'neutral' 'negative'\n",
      " 'neutral' 'negative' 'negative' 'neutral' 'negative' 'neutral' 'negative'\n",
      " 'neutral' 'neutral' 'neutral' 'neutral' 'negative' 'negative' 'negative'\n",
      " 'negative' 'neutral' 'negative' 'positive' 'negative' 'negative'\n",
      " 'negative' 'neutral' 'neutral' 'neutral' 'negative' 'negative' 'positive'\n",
      " 'neutral' 'neutral' 'negative' 'negative' 'negative' 'negative'\n",
      " 'positive' 'neutral' 'negative' 'negative' 'negative' 'neutral' 'neutral'\n",
      " 'negative' 'neutral' 'negative' 'negative' 'positive' 'negative'\n",
      " 'negative' 'negative' 'negative' 'negative' 'negative' 'negative'\n",
      " 'negative' 'positive' 'negative' 'negative' 'negative' 'negative'\n",
      " 'neutral' 'negative' 'neutral' 'negative' 'neutral' 'negative' 'negative'\n",
      " 'neutral' 'neutral']\n",
      "[[1. 0. 0.]\n",
      " [1. 0. 0.]\n",
      " [0. 1. 0.]\n",
      " ...\n",
      " [1. 0. 0.]\n",
      " [0. 1. 0.]\n",
      " [0. 1. 0.]]\n",
      "0.644\n",
      "0.644\n",
      "0.644\n",
      "0.644\n",
      "0.4895263765883712\n",
      "              precision    recall  f1-score   support\n",
      "\n",
      "    negative       0.79      0.71      0.75       335\n",
      "     neutral       0.45      0.61      0.52       125\n",
      "    positive       0.23      0.17      0.20        40\n",
      "\n",
      "   micro avg       0.64      0.64      0.64       500\n",
      "   macro avg       0.49      0.50      0.49       500\n",
      "weighted avg       0.66      0.64      0.65       500\n",
      "\n"
     ]
    }
   ],
   "source": [
    "print(y_test, predicted_y)\n",
    "print(model.predict_proba(X_test))\n",
    "print(accuracy_score(y_test, predicted_y))\n",
    "print(precision_score(y_test, predicted_y, average='micro'))\n",
    "print(recall_score(y_test, predicted_y, average='micro'))\n",
    "print(f1_score(y_test, predicted_y, average='micro', labels = np.unique(predicted_y)))\n",
    "print(f1_score(y_test, predicted_y, average='macro', labels = np.unique(predicted_y)))\n",
    "print(classification_report(y_test, predicted_y,output_dict= False, labels = np.unique(predicted_y)))"
   ]
  },
  {
   "cell_type": "code",
   "execution_count": null,
   "metadata": {},
   "outputs": [],
   "source": []
  }
 ],
 "metadata": {
  "kernelspec": {
   "display_name": "Python 3",
   "language": "python",
   "name": "python3"
  },
  "language_info": {
   "codemirror_mode": {
    "name": "ipython",
    "version": 3
   },
   "file_extension": ".py",
   "mimetype": "text/x-python",
   "name": "python",
   "nbconvert_exporter": "python",
   "pygments_lexer": "ipython3",
   "version": "3.7.3"
  }
 },
 "nbformat": 4,
 "nbformat_minor": 2
}
