{
 "cells": [
  {
   "cell_type": "code",
   "execution_count": 84,
   "metadata": {},
   "outputs": [],
   "source": [
    "import pandas as pd\n",
    "import csv, sys, re\n",
    "import numpy as np\n",
    "from sklearn.feature_extraction.text import CountVectorizer\n",
    "from sklearn.naive_bayes import MultinomialNB, BernoulliNB\n",
    "from sklearn.metrics import accuracy_score, precision_score, recall_score, f1_score, classification_report\n",
    "from sklearn import tree, metrics\n",
    "from sklearn.utils import shuffle\n",
    "\n",
    "df = pd.read_csv('dataset.tsv', sep='\\t', quoting=csv.QUOTE_NONE , dtype= str, header = None, names=[\"instance\", \"text\", \"id\", \"sentiment\",\"is_sarcastic\"])"
   ]
  },
  {
   "cell_type": "code",
   "execution_count": 85,
   "metadata": {},
   "outputs": [
    {
     "data": {
      "text/plain": [
       "10003    358\n",
       "10000    244\n",
       "10005    194\n",
       "10006    189\n",
       "10008    163\n",
       "10001    140\n",
       "10002    130\n",
       "10015    119\n",
       "10013    104\n",
       "10016     59\n",
       "10010     56\n",
       "10019     52\n",
       "10017     47\n",
       "10018     38\n",
       "10014     29\n",
       "10012     25\n",
       "10004     17\n",
       "10009     16\n",
       "10011     13\n",
       "10007      7\n",
       "Name: id, dtype: int64"
      ]
     },
     "execution_count": 85,
     "metadata": {},
     "output_type": "execute_result"
    }
   ],
   "source": [
    "df=shuffle(df)\n",
    "df.head(3)\n",
    "df.id.value_counts()"
   ]
  },
  {
   "cell_type": "code",
   "execution_count": 86,
   "metadata": {},
   "outputs": [],
   "source": [
    "text_data = np.array([])"
   ]
  },
  {
   "cell_type": "code",
   "execution_count": 87,
   "metadata": {},
   "outputs": [],
   "source": [
    "for text in df.text:\n",
    "    text_data = np.append(text_data,text)"
   ]
  },
  {
   "cell_type": "code",
   "execution_count": 88,
   "metadata": {},
   "outputs": [],
   "source": [
    "def remove_URL(sample):\n",
    "    \"\"\"Remove URLs from a sample string\"\"\"\n",
    "    return re.sub(r\"http\\S+\", \"\", sample)\n",
    "\n",
    "\n",
    "def remove_punctuation(sample):\n",
    "    \"\"\"Remove punctuations from a sample string\"\"\"\n",
    "    punctuations = '''!\"&'()*+,-./:;<=>?[\\]^`{|}~'''\n",
    "    no_punct = \"\"\n",
    "    for char in sample:\n",
    "        if char not in punctuations:\n",
    "            no_punct = no_punct + char\n",
    "    return no_punct\n",
    "\n",
    "\n",
    "def myPreprocessor(sample):\n",
    "    \"\"\"Customized preprocessor\"\"\"\n",
    "    sample = remove_URL(sample)\n",
    "    sample = remove_punctuation(sample)\n",
    "    return sample\n",
    "\n",
    "\n",
    "def myTokenizer(sample):\n",
    "    \"\"\"Customized tokenizer\"\"\"\n",
    "    new_words = []\n",
    "    words = sample.split(' ')\n",
    "    new_words = [word for word in words if len(word) >= 2]\n",
    "    return new_words"
   ]
  },
  {
   "cell_type": "code",
   "execution_count": 89,
   "metadata": {},
   "outputs": [
    {
     "name": "stdout",
     "output_type": "stream",
     "text": [
      "['#AFPRaids', '#AusPol', '#AusVotes', '#Auspol', '#Ausvotes', '#Brexit', '#Election2016', '#LNP', '#LNPfail', '#Labor', '#Medicare', '#NBN', '#Parakeelia', '#auspol', '#ausvotes', '#ausvotes2016', '#insiders', '#npc', '#qanda', '@AustralianLabor', '@LiberalAus', '@RichardDiNatale', '@TurnbullMalcolm', '@billshortenmp', 'AFP', 'ALP', 'Abbott', 'Australia', 'Australian', 'Australians', 'Bill', 'Coalition', 'Dutton', 'Government', 'Govt', 'Greens', 'How', 'If', 'Its', 'Joyce', 'LNP', 'Labor', 'Labors', 'Liberal', 'Liberals', 'Libs', 'Malcolm', 'Medicare', 'Morrison', 'NBN', 'No', 'Not', 'PM', 'Party', 'Peter', 'Shorten', 'So', 'THE', 'The', 'This', 'Turnbull', 'Turnbulls', 'VOTE', 'Vote', 'We', 'What', 'Why', 'You', 'about', 'after', 'again', 'all', 'amp', 'an', 'and', 'any', 'are', 'as', 'at', 'back', 'be', 'because', 'been', 'big', 'boats', 'budget', 'business', 'but', 'by', 'campaign', 'can', 'cant', 'care', 'could', 'cut', 'cuts', 'did', 'do', 'dont', 'down', 'economic', 'economy', 'education', 'election', 'even', 'for', 'from', 'funding', 'gearing', 'get', 'going', 'good', 'government', 'govt', 'growth', 'had', 'has', 'have', 'he', 'health', 'his', 'how', 'if', 'in', 'into', 'is', 'it', 'its', 'jobs', 'just', 'know', 'labor', 'last', 'like', 'money', 'more', 'must', 'need', 'no', 'not', 'now', 'of', 'on', 'one', 'only', 'or', 'our', 'out', 'over', 'own', 'party', 'pay', 'people', 'plan', 'plans', 'plebiscite', 'policy', 'put', 'refugees', 'right', 'say', 'says', 'schools', 'so', 'support', 'take', 'tax', 'taxes', 'than', 'that', 'the', 'their', 'them', 'there', 'they', 'think', 'this', 'time', 'to', 'under', 'up', 'us', 'via', 'vote', 'want', 'wants', 'was', 'we', 'what', 'when', 'who', 'why', 'will', 'with', 'wont', 'work', 'workers', 'would', 'you', 'your']\n"
     ]
    }
   ],
   "source": [
    "count = CountVectorizer(preprocessor=myPreprocessor, lowercase = False, tokenizer=myTokenizer ,max_features = 200)\n",
    "bag_of_words = count.fit_transform(text_data)\n",
    "print(count.get_feature_names())"
   ]
  },
  {
   "cell_type": "code",
   "execution_count": 90,
   "metadata": {},
   "outputs": [
    {
     "name": "stdout",
     "output_type": "stream",
     "text": [
      "{'has': 116, 'just': 129, 'for': 105, 'big': 83, 'Turnbull': 60, 'wants': 185, 'us': 181, 'to': 178, 'with': 193, 'amp': 72, 'Abbott': 26, 'because': 81, 'so': 163, '#ausvotes': 14, '#auspol': 13, 'PM': 52, 'Turnbulls': 61, 'of': 141, 'as': 77, '#NBN': 11, 'be': 80, 'must': 136, 'take': 165, 'and': 74, 'Govt': 34, 'was': 186, 'by': 88, 'LNP': 40, 'Bill': 30, 'Shorten': 55, 'its': 127, 'his': 120, 'own': 149, 'it': 126, 'says': 161, 'they': 174, 'NBN': 49, 'into': 124, 'We': 64, 'are': 76, 'all': 71, 'the': 170, 'election': 103, 'policy': 156, 'want': 184, 'from': 106, 'will': 192, 'do': 97, 'Australian': 28, 'on': 142, 'No': 50, 'in': 123, 'What': 65, 'you': 198, 'is': 125, 'our': 146, '#Election2016': 6, 'would': 197, 'not': 139, 'at': 78, 'taxes': 167, 'no': 138, 'Its': 38, '@TurnbullMalcolm': 22, 'budget': 85, 'he': 118, 'down': 99, 'ALP': 25, 'more': 135, 'who': 190, 'get': 109, 'tax': 166, 'cuts': 95, 'under': 179, 'Coalition': 31, 'Labor': 41, 'cant': 91, '#AusVotes': 2, 'one': 143, '#Parakeelia': 12, 'Liberal': 43, 'Party': 53, 'via': 182, 'but': 87, 'cut': 94, 'The': 58, 'govt': 113, 'Malcolm': 46, 'last': 132, 'jobs': 128, 'growth': 114, 'that': 169, '@billshortenmp': 23, 'think': 175, 'been': 82, '#Auspol': 3, 'So': 56, '#LNP': 7, 'now': 140, 'up': 180, 'again': 70, 'out': 147, 'health': 119, '@LiberalAus': 20, 'what': 188, 'plans': 154, 'have': 117, 'people': 152, 'only': 144, 'economic': 100, 'an': 73, 'refugees': 158, '#ausvotes2016': 15, '@RichardDiNatale': 21, 'over': 148, 'this': 176, 'plebiscite': 155, '#insiders': 16, 'your': 199, 'plan': 153, 'than': 168, 'Labors': 42, '#Ausvotes': 4, 'did': 96, '#AFPRaids': 0, 'about': 68, 'You': 67, 'good': 111, 'them': 172, 'work': 195, 'funding': 107, 'Liberals': 44, 'If': 37, 'support': 164, 'right': 159, 'workers': 196, '#Labor': 9, 'Medicare': 47, 'know': 130, 'how': 121, 'can': 90, 'Greens': 35, 'time': 177, 'there': 173, 'going': 110, 'their': 171, 'we': 187, 'could': 93, 'boats': 84, '#Medicare': 10, 'Vote': 63, 'How': 36, 'government': 112, 'after': 69, 'party': 150, 'or': 145, 'business': 86, 'labor': 131, 'put': 157, 'pay': 151, 'Why': 66, 'Peter': 54, 'Dutton': 32, 'back': 79, 'economy': 101, 'when': 189, 'Joyce': 39, 'Morrison': 48, 'dont': 98, 'need': 137, 'wont': 194, 'VOTE': 62, 'THE': 57, 'like': 133, 'if': 122, 'Government': 33, '#qanda': 18, 'Australia': 27, 'even': 104, 'campaign': 89, 'say': 160, 'had': 115, 'education': 102, 'AFP': 24, 'This': 59, 'vote': 183, '#npc': 17, 'Australians': 29, 'money': 134, '#Brexit': 5, 'why': 191, '#AusPol': 1, '@AustralianLabor': 19, 'any': 75, 'Not': 51, '#LNPfail': 8, 'gearing': 108, 'schools': 162, 'Libs': 45, 'care': 92}\n"
     ]
    }
   ],
   "source": [
    "print(count.vocabulary_)"
   ]
  },
  {
   "cell_type": "code",
   "execution_count": 91,
   "metadata": {},
   "outputs": [],
   "source": [
    "X = bag_of_words.toarray()"
   ]
  },
  {
   "cell_type": "code",
   "execution_count": 92,
   "metadata": {},
   "outputs": [],
   "source": [
    "#target classes\n",
    "Y = np.array([])\n",
    "for text in df.id:\n",
    "    Y = np.append(Y,text)"
   ]
  },
  {
   "cell_type": "code",
   "execution_count": 93,
   "metadata": {},
   "outputs": [],
   "source": [
    "X_train = X[:1500]\n",
    "X_test = X[1500:]\n",
    "y_train = Y[:1500]\n",
    "y_test = Y[1500:]"
   ]
  },
  {
   "cell_type": "code",
   "execution_count": 94,
   "metadata": {},
   "outputs": [],
   "source": [
    "#clf = MultinomialNB()\n",
    "#clf = BernoulliNB()\n",
    "clf = tree.DecisionTreeClassifier(criterion='entropy',random_state=0) \n",
    "model = clf.fit(X_train, y_train)"
   ]
  },
  {
   "cell_type": "code",
   "execution_count": 95,
   "metadata": {},
   "outputs": [],
   "source": [
    "predicted_y = model.predict(X_test)"
   ]
  },
  {
   "cell_type": "code",
   "execution_count": 96,
   "metadata": {},
   "outputs": [
    {
     "name": "stdout",
     "output_type": "stream",
     "text": [
      "0.252\n"
     ]
    }
   ],
   "source": [
    "print(accuracy_score(y_test, predicted_y))"
   ]
  },
  {
   "cell_type": "code",
   "execution_count": 97,
   "metadata": {},
   "outputs": [
    {
     "name": "stdout",
     "output_type": "stream",
     "text": [
      "['10011' '10003' '10016' '10002' '10001' '10004' '10005' '10013' '10013'\n",
      " '10000' '10004' '10003' '10003' '10016' '10006' '10005' '10003' '10000'\n",
      " '10001' '10000' '10001' '10001' '10001' '10000' '10002' '10018' '10006'\n",
      " '10005' '10000' '10015' '10000' '10000' '10000' '10003' '10004' '10006'\n",
      " '10008' '10006' '10015' '10006' '10005' '10015' '10000' '10005' '10008'\n",
      " '10003' '10010' '10000' '10000' '10006' '10002' '10015' '10010' '10016'\n",
      " '10003' '10013' '10003' '10003' '10019' '10004' '10019' '10013' '10016'\n",
      " '10008' '10008' '10003' '10003' '10008' '10000' '10015' '10001' '10017'\n",
      " '10000' '10005' '10015' '10018' '10003' '10010' '10008' '10005' '10000'\n",
      " '10002' '10000' '10001' '10003' '10008' '10013' '10008' '10001' '10001'\n",
      " '10006' '10013' '10003' '10002' '10003' '10003' '10015' '10003' '10018'\n",
      " '10002' '10008' '10005' '10010' '10006' '10002' '10000' '10017' '10008'\n",
      " '10005' '10019' '10013' '10003' '10005' '10015' '10001' '10005' '10005'\n",
      " '10001' '10006' '10000' '10005' '10008' '10005' '10006' '10001' '10005'\n",
      " '10003' '10003' '10006' '10005' '10012' '10000' '10001' '10006' '10005'\n",
      " '10008' '10003' '10013' '10019' '10006' '10010' '10002' '10005' '10018'\n",
      " '10013' '10003' '10006' '10001' '10010' '10002' '10006' '10008' '10003'\n",
      " '10015' '10000' '10008' '10002' '10005' '10000' '10005' '10003' '10002'\n",
      " '10008' '10005' '10002' '10000' '10008' '10005' '10017' '10003' '10000'\n",
      " '10002' '10000' '10008' '10000' '10005' '10003' '10006' '10000' '10003'\n",
      " '10003' '10006' '10006' '10003' '10000' '10000' '10001' '10015' '10006'\n",
      " '10003' '10003' '10008' '10004' '10001' '10003' '10005' '10005' '10000'\n",
      " '10000' '10004' '10009' '10006' '10003' '10006' '10015' '10001' '10010'\n",
      " '10015' '10000' '10003' '10001' '10000' '10003' '10017' '10006' '10017'\n",
      " '10001' '10006' '10013' '10000' '10001' '10005' '10015' '10005' '10002'\n",
      " '10003' '10000' '10008' '10006' '10005' '10006' '10003' '10008' '10003'\n",
      " '10018' '10009' '10002' '10000' '10003' '10000' '10009' '10015' '10003'\n",
      " '10002' '10014' '10009' '10005' '10003' '10003' '10003' '10003' '10003'\n",
      " '10003' '10016' '10017' '10001' '10005' '10017' '10001' '10003' '10001'\n",
      " '10010' '10002' '10005' '10008' '10008' '10017' '10003' '10006' '10005'\n",
      " '10015' '10013' '10016' '10006' '10001' '10000' '10000' '10000' '10006'\n",
      " '10008' '10003' '10017' '10007' '10005' '10016' '10003' '10003' '10011'\n",
      " '10009' '10012' '10000' '10012' '10002' '10003' '10006' '10005' '10014'\n",
      " '10017' '10017' '10006' '10006' '10001' '10016' '10003' '10005' '10000'\n",
      " '10015' '10002' '10019' '10013' '10006' '10006' '10019' '10000' '10010'\n",
      " '10015' '10003' '10000' '10008' '10005' '10017' '10003' '10000' '10001'\n",
      " '10006' '10008' '10003' '10002' '10002' '10002' '10015' '10000' '10003'\n",
      " '10000' '10003' '10010' '10000' '10004' '10001' '10005' '10008' '10003'\n",
      " '10000' '10006' '10000' '10008' '10015' '10015' '10002' '10002' '10018'\n",
      " '10016' '10003' '10001' '10012' '10013' '10003' '10015' '10000' '10000'\n",
      " '10006' '10013' '10006' '10006' '10000' '10008' '10000' '10015' '10000'\n",
      " '10000' '10006' '10005' '10006' '10000' '10005' '10019' '10001' '10006'\n",
      " '10001' '10001' '10003' '10000' '10005' '10008' '10006' '10008' '10013'\n",
      " '10014' '10013' '10005' '10003' '10009' '10015' '10006' '10010' '10005'\n",
      " '10003' '10002' '10015' '10000' '10018' '10003' '10005' '10002' '10019'\n",
      " '10002' '10008' '10017' '10008' '10001' '10001' '10006' '10008' '10008'\n",
      " '10008' '10018' '10003' '10016' '10005' '10008' '10003' '10000' '10003'\n",
      " '10005' '10003' '10003' '10018' '10000' '10013' '10013' '10003' '10013'\n",
      " '10014' '10008' '10000' '10008' '10005' '10003' '10000' '10005' '10008'\n",
      " '10003' '10002' '10001' '10002' '10006' '10000' '10015' '10001' '10000'\n",
      " '10001' '10001' '10000' '10003' '10016' '10013' '10006' '10008' '10006'\n",
      " '10000' '10015' '10013' '10009' '10002' '10019' '10006' '10002' '10003'\n",
      " '10003' '10009' '10008' '10000' '10002' '10003' '10003' '10011' '10013'\n",
      " '10008' '10000' '10000' '10003' '10000' '10000' '10015' '10014' '10015'\n",
      " '10013' '10017' '10003' '10003' '10006' '10006' '10012' '10001' '10000'\n",
      " '10003' '10006' '10005' '10013' '10002'] ['10019' '10003' '10000' '10000' '10001' '10000' '10005' '10006' '10000'\n",
      " '10003' '10016' '10001' '10001' '10017' '10003' '10015' '10017' '10003'\n",
      " '10002' '10000' '10019' '10014' '10019' '10000' '10006' '10003' '10003'\n",
      " '10003' '10000' '10000' '10000' '10000' '10013' '10005' '10003' '10003'\n",
      " '10010' '10000' '10015' '10003' '10005' '10006' '10002' '10008' '10016'\n",
      " '10003' '10005' '10003' '10016' '10018' '10016' '10015' '10003' '10013'\n",
      " '10001' '10013' '10005' '10003' '10001' '10000' '10013' '10013' '10008'\n",
      " '10019' '10008' '10005' '10003' '10008' '10002' '10000' '10001' '10001'\n",
      " '10000' '10002' '10016' '10013' '10019' '10003' '10016' '10000' '10006'\n",
      " '10003' '10003' '10003' '10006' '10008' '10006' '10003' '10014' '10002'\n",
      " '10016' '10006' '10006' '10003' '10003' '10013' '10015' '10000' '10017'\n",
      " '10001' '10003' '10006' '10002' '10013' '10000' '10000' '10003' '10001'\n",
      " '10005' '10006' '10001' '10005' '10003' '10015' '10005' '10000' '10003'\n",
      " '10000' '10003' '10003' '10003' '10016' '10000' '10013' '10002' '10012'\n",
      " '10001' '10006' '10005' '10005' '10014' '10011' '10019' '10003' '10018'\n",
      " '10000' '10006' '10013' '10018' '10003' '10013' '10006' '10005' '10000'\n",
      " '10006' '10001' '10013' '10001' '10018' '10003' '10006' '10006' '10002'\n",
      " '10019' '10000' '10008' '10002' '10006' '10000' '10006' '10003' '10010'\n",
      " '10017' '10001' '10006' '10000' '10008' '10005' '10003' '10006' '10012'\n",
      " '10001' '10019' '10016' '10001' '10006' '10002' '10002' '10000' '10003'\n",
      " '10008' '10000' '10000' '10003' '10006' '10000' '10006' '10015' '10006'\n",
      " '10003' '10006' '10003' '10002' '10013' '10002' '10003' '10005' '10000'\n",
      " '10000' '10000' '10006' '10003' '10008' '10005' '10001' '10013' '10006'\n",
      " '10015' '10018' '10002' '10006' '10000' '10013' '10019' '10002' '10008'\n",
      " '10003' '10001' '10013' '10000' '10001' '10019' '10006' '10000' '10002'\n",
      " '10000' '10000' '10008' '10006' '10000' '10005' '10005' '10013' '10013'\n",
      " '10000' '10010' '10003' '10000' '10002' '10003' '10005' '10015' '10006'\n",
      " '10003' '10000' '10006' '10008' '10006' '10015' '10008' '10015' '10005'\n",
      " '10000' '10006' '10003' '10006' '10005' '10000' '10002' '10003' '10000'\n",
      " '10013' '10003' '10003' '10003' '10006' '10003' '10014' '10000' '10003'\n",
      " '10006' '10002' '10015' '10001' '10002' '10003' '10000' '10003' '10003'\n",
      " '10009' '10000' '10002' '10000' '10006' '10000' '10001' '10001' '10003'\n",
      " '10006' '10000' '10003' '10013' '10002' '10003' '10000' '10003' '10000'\n",
      " '10019' '10001' '10005' '10006' '10008' '10006' '10000' '10015' '10000'\n",
      " '10015' '10002' '10016' '10018' '10000' '10005' '10013' '10000' '10003'\n",
      " '10015' '10006' '10000' '10000' '10005' '10002' '10003' '10003' '10005'\n",
      " '10006' '10013' '10009' '10000' '10003' '10002' '10019' '10015' '10001'\n",
      " '10008' '10005' '10010' '10014' '10012' '10001' '10003' '10008' '10003'\n",
      " '10000' '10003' '10000' '10019' '10000' '10015' '10003' '10003' '10006'\n",
      " '10006' '10000' '10019' '10015' '10000' '10005' '10019' '10000' '10002'\n",
      " '10013' '10018' '10018' '10002' '10000' '10003' '10016' '10015' '10002'\n",
      " '10019' '10006' '10015' '10016' '10003' '10005' '10013' '10010' '10006'\n",
      " '10003' '10003' '10003' '10002' '10005' '10000' '10003' '10003' '10006'\n",
      " '10003' '10019' '10006' '10019' '10006' '10005' '10002' '10006' '10005'\n",
      " '10006' '10002' '10015' '10006' '10003' '10002' '10005' '10003' '10008'\n",
      " '10002' '10008' '10013' '10000' '10003' '10003' '10001' '10003' '10006'\n",
      " '10013' '10018' '10000' '10008' '10001' '10008' '10007' '10000' '10003'\n",
      " '10003' '10006' '10003' '10013' '10000' '10000' '10003' '10003' '10002'\n",
      " '10003' '10001' '10000' '10006' '10010' '10000' '10003' '10005' '10006'\n",
      " '10003' '10005' '10001' '10002' '10003' '10000' '10008' '10001' '10006'\n",
      " '10019' '10011' '10000' '10003' '10006' '10006' '10013' '10008' '10013'\n",
      " '10003' '10015' '10000' '10003' '10005' '10008' '10010' '10002' '10003'\n",
      " '10003' '10002' '10008' '10007' '10002' '10003' '10015' '10003' '10003'\n",
      " '10003' '10005' '10000' '10003' '10000' '10000' '10000' '10013' '10013'\n",
      " '10003' '10000' '10006' '10009' '10008' '10003' '10019' '10003' '10003'\n",
      " '10003' '10005' '10003' '10005' '10000']\n",
      "[[0.  0.  0.  ... 0.  0.  1. ]\n",
      " [0.  0.  0.  ... 0.  0.  0. ]\n",
      " [0.5 0.  0.  ... 0.  0.  0. ]\n",
      " ...\n",
      " [0.  0.  0.  ... 0.  0.  0. ]\n",
      " [0.  0.  0.  ... 0.  0.  0. ]\n",
      " [1.  0.  0.  ... 0.  0.  0. ]]\n",
      "0.252\n",
      "0.252\n",
      "0.252\n",
      "0.25377643504531716\n",
      "0.15017965286958343\n",
      "              precision    recall  f1-score   support\n",
      "\n",
      "       10000       0.40      0.48      0.44        71\n",
      "       10001       0.23      0.18      0.21        38\n",
      "       10002       0.26      0.30      0.28        33\n",
      "       10003       0.23      0.29      0.26        82\n",
      "       10005       0.38      0.29      0.33        48\n",
      "       10006       0.11      0.14      0.12        51\n",
      "       10007       0.00      0.00      0.00         1\n",
      "       10008       0.44      0.26      0.33        42\n",
      "       10009       0.00      0.00      0.00         8\n",
      "       10010       0.14      0.09      0.11        11\n",
      "       10011       0.00      0.00      0.00         3\n",
      "       10012       0.00      0.00      0.00         5\n",
      "       10013       0.13      0.17      0.15        24\n",
      "       10014       0.00      0.00      0.00         5\n",
      "       10015       0.59      0.46      0.52        28\n",
      "       10016       0.00      0.00      0.00        11\n",
      "       10017       0.00      0.00      0.00        14\n",
      "       10018       0.11      0.11      0.11         9\n",
      "       10019       0.00      0.00      0.00         9\n",
      "\n",
      "   micro avg       0.25      0.26      0.25       493\n",
      "   macro avg       0.16      0.15      0.15       493\n",
      "weighted avg       0.26      0.26      0.25       493\n",
      "\n"
     ]
    }
   ],
   "source": [
    "print(y_test, predicted_y)\n",
    "print(model.predict_proba(X_test))\n",
    "print(accuracy_score(y_test, predicted_y))\n",
    "print(precision_score(y_test, predicted_y, average='micro'))\n",
    "print(recall_score(y_test, predicted_y, average='micro'))\n",
    "print(f1_score(y_test, predicted_y, average='micro', labels = np.unique(predicted_y)))\n",
    "print(f1_score(y_test, predicted_y, average='macro', labels = np.unique(predicted_y)))\n",
    "print(classification_report(y_test, predicted_y,output_dict= False, labels = np.unique(predicted_y)))"
   ]
  },
  {
   "cell_type": "code",
   "execution_count": 99,
   "metadata": {},
   "outputs": [
    {
     "data": {
      "text/plain": [
       "numpy.ndarray"
      ]
     },
     "execution_count": 99,
     "metadata": {},
     "output_type": "execute_result"
    }
   ],
   "source": [
    "type(model.predict_proba(X_test))"
   ]
  },
  {
   "cell_type": "code",
   "execution_count": 103,
   "metadata": {},
   "outputs": [
    {
     "data": {
      "text/plain": [
       "array([0., 1., 0., 0., 0., 0., 0., 0., 0., 0., 0., 0., 0., 0., 0., 0., 0.,\n",
       "       0., 0., 0.])"
      ]
     },
     "execution_count": 103,
     "metadata": {},
     "output_type": "execute_result"
    }
   ],
   "source": [
    "model.predict_proba(X_test)[4]"
   ]
  },
  {
   "cell_type": "code",
   "execution_count": null,
   "metadata": {},
   "outputs": [],
   "source": []
  }
 ],
 "metadata": {
  "kernelspec": {
   "display_name": "Python 3",
   "language": "python",
   "name": "python3"
  },
  "language_info": {
   "codemirror_mode": {
    "name": "ipython",
    "version": 3
   },
   "file_extension": ".py",
   "mimetype": "text/x-python",
   "name": "python",
   "nbconvert_exporter": "python",
   "pygments_lexer": "ipython3",
   "version": "3.7.3"
  }
 },
 "nbformat": 4,
 "nbformat_minor": 2
}
