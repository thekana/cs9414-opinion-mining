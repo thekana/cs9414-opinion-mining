{
 "cells": [
  {
   "cell_type": "code",
   "execution_count": 68,
   "metadata": {},
   "outputs": [],
   "source": [
    "import pandas as pd\n",
    "import csv, sys, re\n",
    "import numpy as np\n",
    "from sklearn.feature_extraction.text import CountVectorizer\n",
    "from sklearn.naive_bayes import MultinomialNB, BernoulliNB\n",
    "from sklearn.metrics import accuracy_score, precision_score, recall_score, f1_score, classification_report\n",
    "from sklearn import tree, metrics\n",
    "from sklearn.utils import shuffle\n",
    "\n",
    "df = pd.read_csv('dataset.tsv', sep='\\t', quoting=csv.QUOTE_NONE , dtype= str, header = None, names=[\"instance\", \"text\", \"id\", \"sentiment\",\"is_sarcastic\"])"
   ]
  },
  {
   "cell_type": "code",
   "execution_count": 69,
   "metadata": {},
   "outputs": [
    {
     "data": {
      "text/plain": [
       "10003    358\n",
       "10000    244\n",
       "10005    194\n",
       "10006    189\n",
       "10008    163\n",
       "10001    140\n",
       "10002    130\n",
       "10015    119\n",
       "10013    104\n",
       "10016     59\n",
       "10010     56\n",
       "10019     52\n",
       "10017     47\n",
       "10018     38\n",
       "10014     29\n",
       "10012     25\n",
       "10004     17\n",
       "10009     16\n",
       "10011     13\n",
       "10007      7\n",
       "Name: id, dtype: int64"
      ]
     },
     "execution_count": 69,
     "metadata": {},
     "output_type": "execute_result"
    }
   ],
   "source": [
    "df=shuffle(df)\n",
    "df.head(3)\n",
    "df.id.value_counts()"
   ]
  },
  {
   "cell_type": "code",
   "execution_count": 70,
   "metadata": {},
   "outputs": [],
   "source": [
    "text_data = np.array([])"
   ]
  },
  {
   "cell_type": "code",
   "execution_count": 71,
   "metadata": {},
   "outputs": [],
   "source": [
    "for text in df.text:\n",
    "    text_data = np.append(text_data,text)"
   ]
  },
  {
   "cell_type": "code",
   "execution_count": 72,
   "metadata": {},
   "outputs": [],
   "source": [
    "def remove_URL(sample):\n",
    "    \"\"\"Remove URLs from a sample string\"\"\"\n",
    "    return re.sub(r\"http\\S+\", \"\", sample)\n",
    "\n",
    "\n",
    "def remove_punctuation(sample):\n",
    "    \"\"\"Remove punctuations from a sample string\"\"\"\n",
    "    punctuations = '''!\"&'()*+,-./:;<=>?[\\]^`{|}~'''\n",
    "    no_punct = \"\"\n",
    "    for char in sample:\n",
    "        if char not in punctuations:\n",
    "            no_punct = no_punct + char\n",
    "    return no_punct\n",
    "\n",
    "\n",
    "def myPreprocessor(sample):\n",
    "    \"\"\"Customized preprocessor\"\"\"\n",
    "    sample = remove_URL(sample)\n",
    "    sample = remove_punctuation(sample)\n",
    "    return sample\n",
    "\n",
    "\n",
    "def myTokenizer(sample):\n",
    "    \"\"\"Customized tokenizer\"\"\"\n",
    "    new_words = []\n",
    "    words = sample.split(' ')\n",
    "    new_words = [word for word in words if len(word) >= 2]\n",
    "    return new_words"
   ]
  },
  {
   "cell_type": "code",
   "execution_count": 73,
   "metadata": {},
   "outputs": [
    {
     "name": "stdout",
     "output_type": "stream",
     "text": [
      "['#AFPRaids', '#AusPol', '#AusVotes', '#Auspol', '#Ausvotes', '#Brexit', '#Election2016', '#LNP', '#LNPfail', '#Labor', '#Medicare', '#NBN', '#Parakeelia', '#auspol', '#ausvotes', '#ausvotes2016', '#insiders', '#npc', '#qanda', '@AustralianLabor', '@LiberalAus', '@RichardDiNatale', '@TurnbullMalcolm', '@billshortenmp', 'AFP', 'ALP', 'Abbott', 'Australia', 'Australian', 'Australians', 'Bill', 'Coalition', 'Dutton', 'Government', 'Govt', 'Greens', 'How', 'If', 'Its', 'Joyce', 'LNP', 'Labor', 'Labors', 'Liberal', 'Liberals', 'Libs', 'Malcolm', 'Medicare', 'Morrison', 'NBN', 'No', 'Not', 'PM', 'Party', 'Peter', 'Shorten', 'So', 'THE', 'The', 'This', 'Turnbull', 'Turnbulls', 'VOTE', 'Vote', 'We', 'What', 'Why', 'You', 'about', 'after', 'again', 'all', 'amp', 'an', 'and', 'any', 'are', 'as', 'at', 'back', 'be', 'because', 'been', 'big', 'boats', 'budget', 'business', 'but', 'by', 'campaign', 'can', 'cant', 'care', 'could', 'cut', 'cuts', 'did', 'do', 'dont', 'down', 'economic', 'economy', 'education', 'election', 'even', 'for', 'from', 'funding', 'gearing', 'get', 'going', 'good', 'government', 'govt', 'growth', 'had', 'has', 'have', 'he', 'health', 'his', 'how', 'if', 'in', 'into', 'is', 'it', 'its', 'jobs', 'just', 'know', 'labor', 'last', 'like', 'money', 'more', 'must', 'need', 'no', 'not', 'now', 'of', 'on', 'one', 'only', 'or', 'our', 'out', 'over', 'own', 'party', 'pay', 'people', 'plan', 'plans', 'plebiscite', 'policy', 'put', 'refugees', 'right', 'say', 'says', 'schools', 'so', 'support', 'take', 'tax', 'taxes', 'than', 'that', 'the', 'their', 'them', 'there', 'they', 'think', 'this', 'time', 'to', 'under', 'up', 'us', 'via', 'vote', 'want', 'wants', 'was', 'we', 'what', 'when', 'who', 'why', 'will', 'with', 'wont', 'work', 'workers', 'would', 'you', 'your']\n"
     ]
    }
   ],
   "source": [
    "count = CountVectorizer(preprocessor=myPreprocessor, lowercase = False, tokenizer=myTokenizer ,max_features = 200)\n",
    "bag_of_words = count.fit_transform(text_data)\n",
    "print(count.get_feature_names())"
   ]
  },
  {
   "cell_type": "code",
   "execution_count": 74,
   "metadata": {},
   "outputs": [
    {
     "name": "stdout",
     "output_type": "stream",
     "text": [
      "{'You': 67, 'will': 192, 'pay': 151, 'more': 135, 'to': 178, 'the': 170, 'under': 179, 'Liberals': 44, 'If': 37, 'you': 198, 'can': 90, 'it': 126, 'think': 175, 'of': 141, 'who': 190, '#ausvotes': 14, 'VOTE': 62, 'LNP': 40, '#auspol': 13, 'right': 159, 'Shorten': 55, 'that': 169, 'is': 125, '@LiberalAus': 20, 'our': 146, 'by': 88, 'like': 133, 'with': 193, 'this': 176, 'back': 79, 'election': 103, 'Greens': 35, 'could': 93, 'on': 142, 'boats': 84, 'for': 105, 'Labor': 41, 'The': 58, 'need': 137, 'take': 165, 'down': 99, 'and': 74, '#Auspol': 3, '#Labor': 9, 'put': 157, 'into': 124, 'cut': 94, 'Labors': 42, 'last': 132, 'has': 116, 'not': 139, 'Malcolm': 46, 'Turnbull': 60, 'are': 76, 'in': 123, 'his': 120, 'tax': 166, 'cuts': 95, 'plan': 153, '#AusVotes': 2, 'now': 140, '#insiders': 16, 'have': 117, '@TurnbullMalcolm': 22, 'be': 80, 'its': 127, 'get': 109, 'out': 147, 'Liberal': 43, 'no': 138, '#Parakeelia': 12, '#LNP': 7, '#AFPRaids': 0, '#qanda': 18, 'what': 188, 'say': 160, 'because': 81, 'he': 118, 'an': 73, 'but': 87, 'over': 148, 'your': 199, 'jobs': 128, 'economy': 101, 'How': 36, 'money': 134, 'amp': 72, 'No': 50, 'Abbott': 26, 'Joyce': 39, '@AustralianLabor': 19, 'wants': 185, 'about': 68, 'budget': 85, 'Why': 66, 'would': 197, 'funding': 107, '@RichardDiNatale': 21, 'economic': 100, 'growth': 114, 'taxes': 167, 'We': 64, 'if': 122, 'we': 187, '#Medicare': 10, 'want': 184, 'from': 106, 'This': 59, 'says': 161, 'must': 136, 'Party': 53, 'us': 181, 'Turnbulls': 61, 'Australia': 27, '#Brexit': 5, '@billshortenmp': 23, 'at': 78, 'any': 75, 'NBN': 49, 'So': 56, 'Medicare': 47, 'health': 119, 'or': 145, 'as': 77, 'Bill': 30, 'vote': 183, 'had': 115, 'time': 177, 'plans': 154, 'via': 182, 'dont': 98, 'so': 163, 'ALP': 25, 'their': 171, '#Ausvotes': 4, 'Libs': 45, 'was': 186, 'them': 172, 'party': 150, 'they': 174, 'people': 152, 'policy': 156, 'campaign': 89, 'do': 97, 'been': 82, 'just': 129, 'govt': 113, 'Australians': 29, '#npc': 17, 'PM': 52, 'Australian': 28, 'workers': 196, 'schools': 162, '#AusPol': 1, 'how': 121, 'Govt': 34, 'own': 149, 'know': 130, 'up': 180, 'after': 69, 'Dutton': 32, 'AFP': 24, 'education': 102, 'one': 143, 'cant': 91, 'THE': 57, '#Election2016': 6, 'all': 71, 'care': 92, 'than': 168, 'gearing': 108, 'business': 86, 'Coalition': 31, 'plebiscite': 155, 'wont': 194, 'Not': 51, 'again': 70, 'Government': 33, 'Peter': 54, '#NBN': 11, 'there': 173, 'going': 110, 'government': 112, 'Morrison': 48, 'work': 195, 'even': 104, '#ausvotes2016': 15, 'What': 65, 'refugees': 158, 'why': 191, 'Its': 38, 'Vote': 63, 'good': 111, 'did': 96, 'labor': 131, 'support': 164, 'when': 189, 'only': 144, 'big': 83, '#LNPfail': 8}\n"
     ]
    }
   ],
   "source": [
    "print(count.vocabulary_)"
   ]
  },
  {
   "cell_type": "code",
   "execution_count": 75,
   "metadata": {},
   "outputs": [],
   "source": [
    "X = bag_of_words.toarray()"
   ]
  },
  {
   "cell_type": "code",
   "execution_count": 76,
   "metadata": {},
   "outputs": [],
   "source": [
    "#target classes\n",
    "Y = np.array([])\n",
    "for text in df.id:\n",
    "    Y = np.append(Y,text)"
   ]
  },
  {
   "cell_type": "code",
   "execution_count": 77,
   "metadata": {},
   "outputs": [],
   "source": [
    "X_train = X[:1500]\n",
    "X_test = X[1500:]\n",
    "y_train = Y[:1500]\n",
    "y_test = Y[1500:]"
   ]
  },
  {
   "cell_type": "code",
   "execution_count": 78,
   "metadata": {},
   "outputs": [],
   "source": [
    "#clf = MultinomialNB()\n",
    "#clf = BernoulliNB()\n",
    "clf = tree.DecisionTreeClassifier(criterion='entropy',random_state=0) \n",
    "model = clf.fit(X_train, y_train)"
   ]
  },
  {
   "cell_type": "code",
   "execution_count": 79,
   "metadata": {},
   "outputs": [],
   "source": [
    "predicted_y = model.predict(X_test)"
   ]
  },
  {
   "cell_type": "code",
   "execution_count": 80,
   "metadata": {},
   "outputs": [
    {
     "name": "stdout",
     "output_type": "stream",
     "text": [
      "0.258\n"
     ]
    }
   ],
   "source": [
    "print(accuracy_score(y_test, predicted_y))"
   ]
  },
  {
   "cell_type": "code",
   "execution_count": 82,
   "metadata": {},
   "outputs": [
    {
     "name": "stdout",
     "output_type": "stream",
     "text": [
      "['10018' '10003' '10002' '10001' '10003' '10017' '10006' '10005' '10015'\n",
      " '10013' '10005' '10002' '10017' '10003' '10005' '10005' '10003' '10000'\n",
      " '10003' '10008' '10015' '10005' '10005' '10003' '10014' '10008' '10008'\n",
      " '10006' '10019' '10005' '10001' '10008' '10003' '10006' '10005' '10003'\n",
      " '10012' '10002' '10003' '10012' '10003' '10004' '10003' '10001' '10003'\n",
      " '10016' '10003' '10001' '10002' '10001' '10000' '10013' '10001' '10016'\n",
      " '10003' '10006' '10015' '10008' '10019' '10000' '10003' '10002' '10003'\n",
      " '10000' '10008' '10003' '10006' '10015' '10008' '10003' '10003' '10005'\n",
      " '10018' '10001' '10005' '10001' '10002' '10005' '10008' '10006' '10006'\n",
      " '10005' '10019' '10001' '10017' '10000' '10008' '10008' '10000' '10016'\n",
      " '10005' '10000' '10003' '10005' '10003' '10000' '10008' '10008' '10017'\n",
      " '10006' '10013' '10005' '10008' '10000' '10010' '10005' '10008' '10003'\n",
      " '10006' '10005' '10005' '10005' '10003' '10003' '10000' '10000' '10001'\n",
      " '10018' '10005' '10008' '10005' '10000' '10003' '10016' '10009' '10006'\n",
      " '10008' '10018' '10013' '10006' '10003' '10015' '10013' '10000' '10015'\n",
      " '10012' '10001' '10002' '10000' '10001' '10008' '10003' '10016' '10016'\n",
      " '10000' '10013' '10001' '10000' '10015' '10015' '10015' '10004' '10008'\n",
      " '10015' '10018' '10000' '10016' '10018' '10001' '10018' '10018' '10013'\n",
      " '10005' '10013' '10000' '10003' '10001' '10015' '10019' '10000' '10005'\n",
      " '10015' '10006' '10002' '10016' '10003' '10005' '10000' '10000' '10001'\n",
      " '10010' '10013' '10003' '10001' '10005' '10019' '10003' '10003' '10006'\n",
      " '10013' '10000' '10001' '10008' '10016' '10013' '10000' '10013' '10010'\n",
      " '10003' '10005' '10000' '10010' '10000' '10003' '10010' '10008' '10006'\n",
      " '10003' '10015' '10006' '10005' '10006' '10005' '10002' '10014' '10002'\n",
      " '10003' '10008' '10003' '10008' '10002' '10003' '10015' '10003' '10005'\n",
      " '10006' '10006' '10016' '10013' '10008' '10013' '10006' '10006' '10003'\n",
      " '10019' '10010' '10002' '10002' '10003' '10016' '10005' '10001' '10006'\n",
      " '10008' '10016' '10015' '10014' '10015' '10003' '10015' '10001' '10006'\n",
      " '10003' '10000' '10003' '10010' '10003' '10000' '10001' '10016' '10003'\n",
      " '10008' '10005' '10001' '10003' '10001' '10013' '10008' '10013' '10000'\n",
      " '10001' '10016' '10016' '10006' '10003' '10003' '10015' '10016' '10008'\n",
      " '10015' '10016' '10006' '10005' '10010' '10015' '10003' '10010' '10000'\n",
      " '10006' '10000' '10003' '10000' '10002' '10000' '10006' '10008' '10016'\n",
      " '10006' '10003' '10006' '10003' '10008' '10008' '10001' '10010' '10005'\n",
      " '10006' '10002' '10006' '10003' '10013' '10003' '10006' '10001' '10003'\n",
      " '10008' '10006' '10016' '10001' '10001' '10015' '10003' '10006' '10006'\n",
      " '10019' '10006' '10003' '10000' '10000' '10005' '10015' '10008' '10010'\n",
      " '10010' '10015' '10009' '10003' '10008' '10003' '10015' '10006' '10015'\n",
      " '10015' '10003' '10017' '10010' '10005' '10006' '10015' '10015' '10005'\n",
      " '10000' '10002' '10019' '10008' '10013' '10003' '10015' '10019' '10007'\n",
      " '10000' '10010' '10000' '10005' '10003' '10000' '10002' '10018' '10003'\n",
      " '10000' '10003' '10003' '10001' '10003' '10006' '10013' '10003' '10003'\n",
      " '10008' '10018' '10006' '10001' '10003' '10005' '10013' '10008' '10000'\n",
      " '10000' '10000' '10017' '10004' '10016' '10013' '10016' '10009' '10000'\n",
      " '10013' '10003' '10005' '10017' '10000' '10003' '10013' '10003' '10003'\n",
      " '10000' '10005' '10010' '10003' '10013' '10003' '10008' '10008' '10016'\n",
      " '10010' '10003' '10008' '10000' '10000' '10014' '10005' '10003' '10006'\n",
      " '10013' '10008' '10003' '10013' '10014' '10006' '10001' '10001' '10006'\n",
      " '10002' '10015' '10005' '10004' '10000' '10019' '10003' '10008' '10003'\n",
      " '10003' '10010' '10005' '10000' '10012' '10001' '10003' '10013' '10002'\n",
      " '10003' '10003' '10003' '10005' '10003' '10013' '10008' '10005' '10003'\n",
      " '10008' '10001' '10008' '10002' '10016' '10003' '10000' '10015' '10003'\n",
      " '10001' '10003' '10019' '10003' '10000' '10002' '10000' '10009' '10003'\n",
      " '10003' '10005' '10001' '10013' '10003' '10016' '10003' '10001' '10008'\n",
      " '10003' '10003' '10002' '10005' '10013' '10003' '10001' '10008' '10016'\n",
      " '10000' '10000' '10006' '10002' '10005'] ['10006' '10008' '10000' '10001' '10002' '10003' '10000' '10003' '10013'\n",
      " '10003' '10005' '10004' '10006' '10006' '10015' '10003' '10006' '10006'\n",
      " '10010' '10008' '10015' '10005' '10003' '10001' '10008' '10008' '10006'\n",
      " '10006' '10002' '10002' '10014' '10003' '10003' '10016' '10005' '10003'\n",
      " '10002' '10002' '10017' '10013' '10003' '10003' '10003' '10001' '10008'\n",
      " '10003' '10002' '10008' '10013' '10013' '10000' '10000' '10001' '10019'\n",
      " '10003' '10006' '10015' '10003' '10011' '10017' '10006' '10013' '10006'\n",
      " '10008' '10008' '10017' '10003' '10015' '10002' '10005' '10008' '10000'\n",
      " '10014' '10005' '10003' '10001' '10003' '10015' '10008' '10005' '10007'\n",
      " '10002' '10018' '10001' '10003' '10002' '10002' '10001' '10013' '10000'\n",
      " '10003' '10003' '10002' '10010' '10001' '10000' '10014' '10008' '10003'\n",
      " '10019' '10013' '10002' '10005' '10015' '10005' '10005' '10016' '10005'\n",
      " '10000' '10005' '10017' '10006' '10006' '10002' '10001' '10013' '10003'\n",
      " '10009' '10001' '10008' '10002' '10003' '10006' '10006' '10003' '10005'\n",
      " '10008' '10019' '10002' '10000' '10009' '10006' '10012' '10008' '10015'\n",
      " '10003' '10001' '10000' '10000' '10001' '10000' '10013' '10000' '10001'\n",
      " '10016' '10002' '10003' '10006' '10014' '10015' '10015' '10002' '10001'\n",
      " '10014' '10008' '10000' '10011' '10010' '10008' '10002' '10008' '10000'\n",
      " '10005' '10002' '10000' '10019' '10003' '10019' '10012' '10003' '10003'\n",
      " '10015' '10005' '10002' '10011' '10015' '10005' '10001' '10015' '10000'\n",
      " '10000' '10002' '10006' '10019' '10005' '10013' '10003' '10001' '10000'\n",
      " '10006' '10001' '10005' '10008' '10008' '10003' '10000' '10008' '10005'\n",
      " '10000' '10003' '10008' '10003' '10003' '10007' '10003' '10008' '10006'\n",
      " '10003' '10015' '10001' '10003' '10013' '10005' '10001' '10003' '10002'\n",
      " '10005' '10008' '10003' '10008' '10001' '10013' '10018' '10003' '10008'\n",
      " '10001' '10003' '10000' '10000' '10008' '10014' '10007' '10013' '10010'\n",
      " '10008' '10000' '10002' '10001' '10003' '10001' '10005' '10008' '10011'\n",
      " '10008' '10013' '10010' '10014' '10006' '10003' '10015' '10006' '10001'\n",
      " '10013' '10000' '10013' '10002' '10006' '10000' '10003' '10017' '10019'\n",
      " '10008' '10005' '10001' '10019' '10003' '10001' '10008' '10000' '10003'\n",
      " '10001' '10006' '10003' '10000' '10003' '10002' '10019' '10000' '10008'\n",
      " '10010' '10006' '10000' '10000' '10000' '10015' '10008' '10002' '10016'\n",
      " '10003' '10000' '10008' '10002' '10002' '10000' '10010' '10006' '10006'\n",
      " '10003' '10002' '10001' '10002' '10006' '10000' '10001' '10002' '10002'\n",
      " '10016' '10001' '10006' '10005' '10010' '10003' '10006' '10001' '10008'\n",
      " '10016' '10002' '10006' '10013' '10001' '10008' '10002' '10000' '10013'\n",
      " '10019' '10006' '10003' '10000' '10006' '10017' '10015' '10018' '10002'\n",
      " '10003' '10015' '10003' '10006' '10009' '10003' '10015' '10008' '10001'\n",
      " '10006' '10002' '10003' '10010' '10005' '10006' '10015' '10001' '10002'\n",
      " '10000' '10016' '10016' '10005' '10019' '10001' '10003' '10003' '10002'\n",
      " '10006' '10003' '10019' '10006' '10001' '10003' '10000' '10002' '10003'\n",
      " '10000' '10013' '10003' '10005' '10019' '10013' '10013' '10001' '10008'\n",
      " '10013' '10003' '10008' '10008' '10001' '10005' '10013' '10008' '10003'\n",
      " '10000' '10003' '10006' '10000' '10018' '10000' '10011' '10013' '10003'\n",
      " '10013' '10008' '10005' '10001' '10006' '10000' '10008' '10005' '10003'\n",
      " '10000' '10006' '10005' '10014' '10008' '10012' '10000' '10018' '10006'\n",
      " '10019' '10000' '10013' '10000' '10000' '10017' '10001' '10019' '10001'\n",
      " '10003' '10000' '10009' '10017' '10006' '10000' '10003' '10012' '10005'\n",
      " '10002' '10015' '10013' '10001' '10000' '10018' '10017' '10016' '10006'\n",
      " '10001' '10005' '10003' '10000' '10001' '10019' '10008' '10019' '10002'\n",
      " '10000' '10011' '10003' '10005' '10010' '10011' '10008' '10001' '10008'\n",
      " '10000' '10010' '10008' '10008' '10008' '10004' '10000' '10015' '10006'\n",
      " '10008' '10008' '10016' '10000' '10008' '10002' '10002' '10001' '10005'\n",
      " '10000' '10005' '10000' '10000' '10003' '10008' '10000' '10001' '10016'\n",
      " '10006' '10003' '10003' '10005' '10003' '10000' '10019' '10000' '10006'\n",
      " '10015' '10000' '10016' '10000' '10003']\n",
      "[[0. 0. 0. ... 0. 0. 0.]\n",
      " [0. 0. 0. ... 0. 0. 0.]\n",
      " [1. 0. 0. ... 0. 0. 0.]\n",
      " ...\n",
      " [0. 0. 0. ... 0. 0. 0.]\n",
      " [1. 0. 0. ... 0. 0. 0.]\n",
      " [0. 0. 0. ... 0. 0. 0.]]\n",
      "0.258\n",
      "0.258\n",
      "0.258\n",
      "0.258\n",
      "0.1560838875999588\n",
      "              precision    recall  f1-score   support\n",
      "\n",
      "       10000       0.32      0.39      0.35        54\n",
      "       10001       0.28      0.34      0.31        38\n",
      "       10002       0.19      0.35      0.24        23\n",
      "       10003       0.28      0.21      0.24        99\n",
      "       10004       0.00      0.00      0.00         4\n",
      "       10005       0.47      0.35      0.40        48\n",
      "       10006       0.15      0.16      0.16        43\n",
      "       10007       0.00      0.00      0.00         1\n",
      "       10008       0.35      0.41      0.38        46\n",
      "       10009       0.00      0.00      0.00         4\n",
      "       10010       0.09      0.06      0.07        17\n",
      "       10011       0.00      0.00      0.00         0\n",
      "       10012       0.00      0.00      0.00         4\n",
      "       10013       0.15      0.13      0.14        30\n",
      "       10014       0.12      0.20      0.15         5\n",
      "       10015       0.73      0.52      0.60        31\n",
      "       10016       0.00      0.00      0.00        25\n",
      "       10017       0.00      0.00      0.00         7\n",
      "       10018       0.00      0.00      0.00        10\n",
      "       10019       0.06      0.09      0.07        11\n",
      "\n",
      "   micro avg       0.26      0.26      0.26       500\n",
      "   macro avg       0.16      0.16      0.16       500\n",
      "weighted avg       0.27      0.26      0.26       500\n",
      "\n"
     ]
    },
    {
     "name": "stderr",
     "output_type": "stream",
     "text": [
      "C:\\Users\\King\\Anaconda3\\lib\\site-packages\\sklearn\\metrics\\classification.py:1145: UndefinedMetricWarning: F-score is ill-defined and being set to 0.0 in labels with no true samples.\n",
      "  'recall', 'true', average, warn_for)\n",
      "C:\\Users\\King\\Anaconda3\\lib\\site-packages\\sklearn\\metrics\\classification.py:1145: UndefinedMetricWarning: Recall and F-score are ill-defined and being set to 0.0 in labels with no true samples.\n",
      "  'recall', 'true', average, warn_for)\n"
     ]
    }
   ],
   "source": [
    "print(y_test, predicted_y)\n",
    "print(model.predict_proba(X_test))\n",
    "print(accuracy_score(y_test, predicted_y))\n",
    "print(precision_score(y_test, predicted_y, average='micro'))\n",
    "print(recall_score(y_test, predicted_y, average='micro'))\n",
    "print(f1_score(y_test, predicted_y, average='micro', labels = np.unique(predicted_y)))\n",
    "print(f1_score(y_test, predicted_y, average='macro', labels = np.unique(predicted_y)))\n",
    "print(classification_report(y_test, predicted_y,output_dict= False, labels = np.unique(predicted_y)))"
   ]
  },
  {
   "cell_type": "code",
   "execution_count": null,
   "metadata": {},
   "outputs": [],
   "source": []
  }
 ],
 "metadata": {
  "kernelspec": {
   "display_name": "Python 3",
   "language": "python",
   "name": "python3"
  },
  "language_info": {
   "codemirror_mode": {
    "name": "ipython",
    "version": 3
   },
   "file_extension": ".py",
   "mimetype": "text/x-python",
   "name": "python",
   "nbconvert_exporter": "python",
   "pygments_lexer": "ipython3",
   "version": "3.7.3"
  }
 },
 "nbformat": 4,
 "nbformat_minor": 2
}
